{
 "cells": [
  {
   "cell_type": "code",
   "execution_count": null,
   "metadata": {
    "pycharm": {
     "name": "#%%\n"
    }
   },
   "outputs": [],
   "source": [
    "from numpy import mean\n",
    "from numpy import std\n",
    "import time\n",
    "import pandas as pd\n",
    "from sklearn.datasets import make_classification\n",
    "from sklearn.model_selection import cross_validate\n",
    "from sklearn.model_selection import RepeatedStratifiedKFold\n",
    "from sklearn.neighbors import KNeighborsClassifier\n",
    "from sklearn.ensemble import StackingClassifier\n",
    "from matplotlib import pyplot\n",
    "from mlxtend.classifier import EnsembleVoteClassifier\n",
    "from xgboost import XGBClassifier\n",
    "from sklearn.linear_model import LogisticRegression\n",
    "from sklearn.naive_bayes import GaussianNB\n",
    "from sklearn.ensemble import RandomForestClassifier\n",
    "from sklearn.svm import LinearSVC\n",
    "from sklearn.model_selection import cross_val_score\n",
    "from sklearn.model_selection import cross_validate\n",
    "dfx = pd.read_csv(\"X_ReSampled.csv\")\n",
    "dfy = pd.read_csv(\"Y_ReSampled.csv\")\n",
    "UserF = dfx[['UCcounts','avg_Urating','Uavg#word','day_rating']].copy()\n",
    "scoring = {'Acc': 'accuracy',\n",
    "           'AP': 'average_precision',\n",
    "           'AUC': 'roc_auc',\n",
    "           'F1': 'f1',\n",
    "           'log loss': 'neg_log_loss'} \n",
    "clf1 = XGBClassifier(random_state = 44, nthread = 4)\n",
    "clf2 = KNeighborsClassifier(n_neighbors=3, n_jobs = -1)\n",
    "clf3 = GaussianNB()\n",
    "clf4 = RandomForestClassifier(random_state = 44,n_jobs = -1)\n",
    "clf5 = LogisticRegression(random_state = 44,n_jobs = -1)\n",
    "eclf = StackingClassifier(estimators=[clf1, clf2, clf3,clf4,clf5], final_estimator=LogisticRegression(), n_jobs = -1)\n",
    "labels = ['XGBoost','KNN Classifier', 'Naive Bayes', 'Random Forest', 'Logistic Regression', 'Stacking']\n",
    "df = pd.DataFrame()\n",
    "for clf, label in zip([clf1, clf2, clf3,clf4,clf5,eclf], labels):\n",
    "    start = time.time()\n",
    "    scores = cross_validate(clf, UserF, dfy.values.ravel(), cv=5,scoring=,n_jobs=-1)\n",
    "    print(\"Accuracy: %0.2f (+/- %0.2f)\" % (scores.mean()*100, scores.std()*100))\n",
    "    end = time.time()\n",
    "    print(label, end-start)\n",
    "    t = pd.DataFrame.from_dict(scores)\n",
    "    df = pd.concat([df,t.mean()],axis =1)\n",
    "    df.rename(columns={0: label}, inplace=True)\n",
    "    #print(\"[%s], Duration %0.2f\" % (label, end-start))\n",
    "    #print(t.mean())\n",
    "df"
   ]
  },
  {
   "cell_type": "code",
   "execution_count": 1,
   "metadata": {
    "pycharm": {
     "name": "#%%\n"
    }
   },
   "outputs": [],
   "source": [
    "from numpy import mean\n",
    "from numpy import std\n",
    "import time\n",
    "import pandas as pd\n",
    "from sklearn.model_selection import cross_validate\n",
    "from sklearn.neighbors import KNeighborsClassifier\n",
    "from sklearn.ensemble import StackingClassifier\n",
    "from mlxtend.classifier import EnsembleVoteClassifier\n",
    "from xgboost import XGBClassifier\n",
    "from sklearn.naive_bayes import GaussianNB\n",
    "from sklearn.linear_model import LogisticRegression\n",
    "from sklearn.ensemble import RandomForestClassifier\n",
    "from sklearn.svm import LinearSVC\n",
    "from sklearn.model_selection import cross_val_score\n",
    "from sklearn.neural_network import MLPClassifier\n",
    "scoring = {'Acc': 'accuracy',\n",
    "           'AP': 'average_precision',\n",
    "           'recall': 'recall',\n",
    "           'AUC': 'roc_auc',\n",
    "           'F1': 'f1',\n",
    "           'log loss': 'neg_log_loss'} "
   ]
  },
  {
   "cell_type": "code",
   "execution_count": 10,
   "metadata": {
    "pycharm": {
     "name": "#%%\n"
    }
   },
   "outputs": [
    {
     "name": "stdout",
     "output_type": "stream",
     "text": [
      "Accuracy XGBoost: 74.99 (+/- 1.04)\n",
      "Accuracy KNN Classifier: 71.57 (+/- 1.13)\n",
      "Accuracy Naive Bayes: 65.31 (+/- 0.31)\n",
      "Accuracy Random Forest: 76.14 (+/- 1.07)\n",
      "Accuracy Logistic Regression: 71.30 (+/- 0.74)\n",
      "Accuracy Stacking: 77.02 (+/- 1.01)\n"
     ]
    }
   ],
   "source": [
    "estimators = [\n",
    "    ('xgb', XGBClassifier(random_state = 44, nthread = 4)),\n",
    "    ('knn3', KNeighborsClassifier(n_neighbors=3, n_jobs = -1)),\n",
    "    ('gnb', GaussianNB()),\n",
    "    ('rf', RandomForestClassifier(random_state = 44,n_jobs = -1)),\n",
    "    ('lr', LogisticRegression(random_state = 44,n_jobs = -1))]\n",
    "eclf = StackingClassifier(estimators=estimators, final_estimator=XGBClassifier(), n_jobs = -1)\n",
    "from sklearn.model_selection import cross_val_score\n",
    "for clf, label in zip([clf1, clf2, clf3,clf4,clf5,eclf], labels):\n",
    "    scores = cross_val_score(clf, UserF, dfy.values.ravel(), cv=5,scoring='accuracy',n_jobs=-1)\n",
    "    print(\"Accuracy %s: %0.2f (+/- %0.2f)\" % (label, scores.mean()*100, scores.std()*100))\n"
   ]
  },
  {
   "cell_type": "code",
   "execution_count": 9,
   "metadata": {
    "pycharm": {
     "name": "#%%\n"
    }
   },
   "outputs": [
    {
     "name": "stdout",
     "output_type": "stream",
     "text": [
      "Accuracy XGBoost: 74.99 (+/- 1.04)\n",
      "Accuracy KNN Classifier: 71.57 (+/- 1.13)\n",
      "Accuracy Naive Bayes: 65.31 (+/- 0.31)\n",
      "Accuracy Random Forest: 76.14 (+/- 1.07)\n",
      "Accuracy Logistic Regression: 71.30 (+/- 0.74)\n",
      "Accuracy Stacking: 75.29 (+/- 0.87)\n"
     ]
    }
   ],
   "source": [
    "eclf = EnsembleVoteClassifier(clfs=[clf1, clf2, clf3,clf4,clf5], weights=[1,1,1,1,1])\n",
    "from sklearn.model_selection import cross_val_score\n",
    "for clf, label in zip([clf1, clf2, clf3,clf4,clf5,eclf], labels):\n",
    "    scores = cross_val_score(clf, UserF, dfy.values.ravel(), cv=5,scoring='accuracy',n_jobs=-1,return_train_score=True)\n",
    "    print(\"Accuracy %s: %0.2f (+/- %0.2f)\" % (label, scores.mean()*100, scores.std()*100))\n"
   ]
  },
  {
   "cell_type": "code",
   "execution_count": 11,
   "metadata": {
    "pycharm": {
     "name": "#%%\n"
    }
   },
   "outputs": [
    {
     "name": "stdout",
     "output_type": "stream",
     "text": [
      "Accuracy XGBoost: 74.99 (+/- 1.04)\n",
      "Accuracy KNN Classifier: 71.57 (+/- 1.13)\n",
      "Accuracy Naive Bayes: 65.31 (+/- 0.31)\n",
      "Accuracy Random Forest: 76.14 (+/- 1.07)\n",
      "Accuracy Logistic Regression: 71.30 (+/- 0.74)\n",
      "Accuracy Stacking: 77.10 (+/- 1.03)\n"
     ]
    }
   ],
   "source": [
    "estimators = [\n",
    "    ('xgb', XGBClassifier(random_state = 44, nthread = 4)),\n",
    "    ('knn3', KNeighborsClassifier(n_neighbors=3, n_jobs = -1)),\n",
    "    ('gnb', GaussianNB()),\n",
    "    ('rf', RandomForestClassifier(random_state = 44,n_jobs = -1)),\n",
    "    ('lr', LogisticRegression(random_state = 44,n_jobs = -1))]\n",
    "eclf = StackingClassifier(estimators=estimators, final_estimator=XGBClassifier(), n_jobs = -1, passthrough=True)\n",
    "from sklearn.model_selection import cross_val_score\n",
    "for clf, label in zip([clf1, clf2, clf3,clf4,clf5,eclf], labels):\n",
    "    scores = cross_val_score(clf, UserF, dfy.values.ravel(), cv=5,scoring='accuracy',n_jobs=-1)\n",
    "    print(\"Accuracy %s: %0.2f (+/- %0.2f)\" % (label, scores.mean()*100, scores.std()*100))\n"
   ]
  },
  {
   "cell_type": "code",
   "execution_count": 50,
   "metadata": {
    "pycharm": {
     "name": "#%%\n"
    }
   },
   "outputs": [
    {
     "name": "stdout",
     "output_type": "stream",
     "text": [
      "Accuracy XGBoost: 75.43 (+/- 0.95)\n",
      "Accuracy GNB: 65.76 (+/- 0.40)\n",
      "Accuracy KNN: 74.69 (+/- 3.60)\n",
      "Accuracy Random Forest: 76.08 (+/- 1.38)\n",
      "Accuracy Logistic Regression: 69.23 (+/- 2.91)\n",
      "Accuracy Voting: 83.22 (+/- 1.40)\n"
     ]
    }
   ],
   "source": [
    "eclf = StackingClassifier(estimators=estimators, final_estimator=XGBClassifier(), n_jobs = -1, passthrough=False)\n",
    "from sklearn.model_selection import cross_val_score\n",
    "for clf, label in zip([clf1, clf2, clf3,clf4,clf5,eclf], labels):\n",
    "    scores = cross_val_score(clf, UserF, dfy.values.ravel(), cv=5,scoring='accuracy',n_jobs=-1)\n",
    "    print(\"Accuracy %s: %0.2f (+/- %0.2f)\" % (label, scores.mean()*100, scores.std()*100))\n"
   ]
  },
  {
   "cell_type": "code",
   "execution_count": 49,
   "metadata": {
    "pycharm": {
     "name": "#%%\n"
    }
   },
   "outputs": [
    {
     "name": "stdout",
     "output_type": "stream",
     "text": [
      "XGBoost\n",
      "GNB\n",
      "KNN\n",
      "Random Forest\n",
      "Logistic Regression\n",
      "Voting\n"
     ]
    },
    {
     "data": {
      "text/html": [
       "<div>\n",
       "<style scoped>\n",
       "    .dataframe tbody tr th:only-of-type {\n",
       "        vertical-align: middle;\n",
       "    }\n",
       "\n",
       "    .dataframe tbody tr th {\n",
       "        vertical-align: top;\n",
       "    }\n",
       "\n",
       "    .dataframe thead th {\n",
       "        text-align: right;\n",
       "    }\n",
       "</style>\n",
       "<table border=\"1\" class=\"dataframe\">\n",
       "  <thead>\n",
       "    <tr style=\"text-align: right;\">\n",
       "      <th></th>\n",
       "      <th>XGBoost</th>\n",
       "      <th>GNB</th>\n",
       "      <th>KNN</th>\n",
       "      <th>Random Forest</th>\n",
       "      <th>Logistic Regression</th>\n",
       "      <th>Voting</th>\n",
       "    </tr>\n",
       "  </thead>\n",
       "  <tbody>\n",
       "    <tr>\n",
       "      <th>fit_time</th>\n",
       "      <td>5.871124</td>\n",
       "      <td>0.096105</td>\n",
       "      <td>1.290606</td>\n",
       "      <td>30.606854</td>\n",
       "      <td>1.481505</td>\n",
       "      <td>42.299733</td>\n",
       "    </tr>\n",
       "    <tr>\n",
       "      <th>score_time</th>\n",
       "      <td>0.228420</td>\n",
       "      <td>0.119995</td>\n",
       "      <td>2.538055</td>\n",
       "      <td>3.154958</td>\n",
       "      <td>0.109784</td>\n",
       "      <td>5.901028</td>\n",
       "    </tr>\n",
       "    <tr>\n",
       "      <th>test_Acc</th>\n",
       "      <td>0.754253</td>\n",
       "      <td>0.657626</td>\n",
       "      <td>0.746950</td>\n",
       "      <td>0.760822</td>\n",
       "      <td>0.692286</td>\n",
       "      <td>0.787444</td>\n",
       "    </tr>\n",
       "    <tr>\n",
       "      <th>train_Acc</th>\n",
       "      <td>0.759042</td>\n",
       "      <td>0.657923</td>\n",
       "      <td>0.943116</td>\n",
       "      <td>0.996549</td>\n",
       "      <td>0.696587</td>\n",
       "      <td>0.834947</td>\n",
       "    </tr>\n",
       "    <tr>\n",
       "      <th>test_AP</th>\n",
       "      <td>0.850660</td>\n",
       "      <td>0.772365</td>\n",
       "      <td>0.774099</td>\n",
       "      <td>0.871102</td>\n",
       "      <td>0.782266</td>\n",
       "      <td>0.907127</td>\n",
       "    </tr>\n",
       "    <tr>\n",
       "      <th>train_AP</th>\n",
       "      <td>0.857444</td>\n",
       "      <td>0.771938</td>\n",
       "      <td>0.984835</td>\n",
       "      <td>0.999841</td>\n",
       "      <td>0.782606</td>\n",
       "      <td>0.989501</td>\n",
       "    </tr>\n",
       "    <tr>\n",
       "      <th>test_recall</th>\n",
       "      <td>0.672435</td>\n",
       "      <td>0.357956</td>\n",
       "      <td>0.853643</td>\n",
       "      <td>0.754171</td>\n",
       "      <td>0.610690</td>\n",
       "      <td>0.652596</td>\n",
       "    </tr>\n",
       "    <tr>\n",
       "      <th>train_recall</th>\n",
       "      <td>0.673372</td>\n",
       "      <td>0.358156</td>\n",
       "      <td>0.922232</td>\n",
       "      <td>0.997412</td>\n",
       "      <td>0.610303</td>\n",
       "      <td>0.700841</td>\n",
       "    </tr>\n",
       "    <tr>\n",
       "      <th>test_AUC</th>\n",
       "      <td>0.819272</td>\n",
       "      <td>0.739288</td>\n",
       "      <td>0.824003</td>\n",
       "      <td>0.841168</td>\n",
       "      <td>0.750070</td>\n",
       "      <td>0.880255</td>\n",
       "    </tr>\n",
       "    <tr>\n",
       "      <th>train_AUC</th>\n",
       "      <td>0.829304</td>\n",
       "      <td>0.739668</td>\n",
       "      <td>0.990274</td>\n",
       "      <td>0.999845</td>\n",
       "      <td>0.750885</td>\n",
       "      <td>0.990520</td>\n",
       "    </tr>\n",
       "    <tr>\n",
       "      <th>test_F1</th>\n",
       "      <td>0.732444</td>\n",
       "      <td>0.511082</td>\n",
       "      <td>0.772219</td>\n",
       "      <td>0.759370</td>\n",
       "      <td>0.665258</td>\n",
       "      <td>0.754411</td>\n",
       "    </tr>\n",
       "    <tr>\n",
       "      <th>train_F1</th>\n",
       "      <td>0.736451</td>\n",
       "      <td>0.511449</td>\n",
       "      <td>0.941899</td>\n",
       "      <td>0.996552</td>\n",
       "      <td>0.667755</td>\n",
       "      <td>0.809268</td>\n",
       "    </tr>\n",
       "    <tr>\n",
       "      <th>test_log loss</th>\n",
       "      <td>-0.500989</td>\n",
       "      <td>-0.792726</td>\n",
       "      <td>-3.975714</td>\n",
       "      <td>-0.575095</td>\n",
       "      <td>-0.589729</td>\n",
       "      <td>-0.456097</td>\n",
       "    </tr>\n",
       "    <tr>\n",
       "      <th>train_log loss</th>\n",
       "      <td>-0.490524</td>\n",
       "      <td>-0.784510</td>\n",
       "      <td>-0.116718</td>\n",
       "      <td>-0.104326</td>\n",
       "      <td>-0.583705</td>\n",
       "      <td>-0.321402</td>\n",
       "    </tr>\n",
       "  </tbody>\n",
       "</table>\n",
       "</div>"
      ],
      "text/plain": [
       "                 XGBoost       GNB       KNN  Random Forest  \\\n",
       "fit_time        5.871124  0.096105  1.290606      30.606854   \n",
       "score_time      0.228420  0.119995  2.538055       3.154958   \n",
       "test_Acc        0.754253  0.657626  0.746950       0.760822   \n",
       "train_Acc       0.759042  0.657923  0.943116       0.996549   \n",
       "test_AP         0.850660  0.772365  0.774099       0.871102   \n",
       "train_AP        0.857444  0.771938  0.984835       0.999841   \n",
       "test_recall     0.672435  0.357956  0.853643       0.754171   \n",
       "train_recall    0.673372  0.358156  0.922232       0.997412   \n",
       "test_AUC        0.819272  0.739288  0.824003       0.841168   \n",
       "train_AUC       0.829304  0.739668  0.990274       0.999845   \n",
       "test_F1         0.732444  0.511082  0.772219       0.759370   \n",
       "train_F1        0.736451  0.511449  0.941899       0.996552   \n",
       "test_log loss  -0.500989 -0.792726 -3.975714      -0.575095   \n",
       "train_log loss -0.490524 -0.784510 -0.116718      -0.104326   \n",
       "\n",
       "                Logistic Regression     Voting  \n",
       "fit_time                   1.481505  42.299733  \n",
       "score_time                 0.109784   5.901028  \n",
       "test_Acc                   0.692286   0.787444  \n",
       "train_Acc                  0.696587   0.834947  \n",
       "test_AP                    0.782266   0.907127  \n",
       "train_AP                   0.782606   0.989501  \n",
       "test_recall                0.610690   0.652596  \n",
       "train_recall               0.610303   0.700841  \n",
       "test_AUC                   0.750070   0.880255  \n",
       "train_AUC                  0.750885   0.990520  \n",
       "test_F1                    0.665258   0.754411  \n",
       "train_F1                   0.667755   0.809268  \n",
       "test_log loss             -0.589729  -0.456097  \n",
       "train_log loss            -0.583705  -0.321402  "
      ]
     },
     "execution_count": 49,
     "metadata": {},
     "output_type": "execute_result"
    }
   ],
   "source": [
    "from sklearn.neural_network import MLPClassifier\n",
    "clf1 = XGBClassifier(random_state = 44, nthread = 4)\n",
    "clf2 = GaussianNB()\n",
    "clf3 = KNeighborsClassifier(n_neighbors=3, n_jobs = -1)\n",
    "clf4 = RandomForestClassifier(random_state = 44,n_jobs = -1)\n",
    "clf5 = LogisticRegression(random_state = 44,n_jobs = -1)\n",
    "eclf = EnsembleVoteClassifier(clfs=[clf1, clf2, clf3,clf4,clf5], weights=[1,1,1,1,1] )    \n",
    "\n",
    "labels = ['XGBoost','GNB', 'KNN', 'Random Forest', 'Logistic Regression', 'Voting']\n",
    "df = pd.DataFrame()\n",
    "for clf, label in zip([clf1, clf2, clf3,clf4,clf5,eclf], labels):\n",
    "    start = time.time()\n",
    "    scores = cross_validate(clf, UserF, dfy.values.ravel(), cv=5,scoring=scoring,n_jobs=-1,return_train_score=True)\n",
    "    end = time.time()\n",
    "    print(label)\n",
    "    t = pd.DataFrame.from_dict(scores)\n",
    "    df = pd.concat([df,t.mean()],axis =1)\n",
    "    df.rename(columns={0: label}, inplace=True)\n",
    "    #print(\"[%s], Duration %0.2f\" % (label, end-start))\n",
    "    #print(t.mean())\n",
    "df"
   ]
  },
  {
   "cell_type": "code",
   "execution_count": 51,
   "metadata": {
    "pycharm": {
     "name": "#%%\n"
    }
   },
   "outputs": [
    {
     "name": "stdout",
     "output_type": "stream",
     "text": [
      "XGBoost\n",
      "MLP Classifier\n",
      "KNN\n",
      "Random Forest\n",
      "Logistic Regression\n",
      "Stacking\n"
     ]
    },
    {
     "data": {
      "text/html": [
       "<div>\n",
       "<style scoped>\n",
       "    .dataframe tbody tr th:only-of-type {\n",
       "        vertical-align: middle;\n",
       "    }\n",
       "\n",
       "    .dataframe tbody tr th {\n",
       "        vertical-align: top;\n",
       "    }\n",
       "\n",
       "    .dataframe thead th {\n",
       "        text-align: right;\n",
       "    }\n",
       "</style>\n",
       "<table border=\"1\" class=\"dataframe\">\n",
       "  <thead>\n",
       "    <tr style=\"text-align: right;\">\n",
       "      <th></th>\n",
       "      <th>XGBoost</th>\n",
       "      <th>MLP Classifier</th>\n",
       "      <th>KNN</th>\n",
       "      <th>Random Forest</th>\n",
       "      <th>Logistic Regression</th>\n",
       "      <th>Stacking</th>\n",
       "    </tr>\n",
       "  </thead>\n",
       "  <tbody>\n",
       "    <tr>\n",
       "      <th>fit_time</th>\n",
       "      <td>5.584847</td>\n",
       "      <td>135.797873</td>\n",
       "      <td>1.223761</td>\n",
       "      <td>30.590641</td>\n",
       "      <td>1.413201</td>\n",
       "      <td>979.590659</td>\n",
       "    </tr>\n",
       "    <tr>\n",
       "      <th>score_time</th>\n",
       "      <td>0.253681</td>\n",
       "      <td>4.179441</td>\n",
       "      <td>2.460212</td>\n",
       "      <td>3.153895</td>\n",
       "      <td>0.109669</td>\n",
       "      <td>4.448788</td>\n",
       "    </tr>\n",
       "    <tr>\n",
       "      <th>test_Acc</th>\n",
       "      <td>0.754253</td>\n",
       "      <td>0.524545</td>\n",
       "      <td>0.746950</td>\n",
       "      <td>0.760822</td>\n",
       "      <td>0.692286</td>\n",
       "      <td>0.832227</td>\n",
       "    </tr>\n",
       "    <tr>\n",
       "      <th>train_Acc</th>\n",
       "      <td>0.759042</td>\n",
       "      <td>0.525881</td>\n",
       "      <td>0.943116</td>\n",
       "      <td>0.996549</td>\n",
       "      <td>0.696587</td>\n",
       "      <td>0.918039</td>\n",
       "    </tr>\n",
       "    <tr>\n",
       "      <th>test_AP</th>\n",
       "      <td>0.850660</td>\n",
       "      <td>0.525744</td>\n",
       "      <td>0.774099</td>\n",
       "      <td>0.871102</td>\n",
       "      <td>0.782266</td>\n",
       "      <td>0.925321</td>\n",
       "    </tr>\n",
       "    <tr>\n",
       "      <th>train_AP</th>\n",
       "      <td>0.857444</td>\n",
       "      <td>0.527609</td>\n",
       "      <td>0.984835</td>\n",
       "      <td>0.999841</td>\n",
       "      <td>0.782606</td>\n",
       "      <td>0.991127</td>\n",
       "    </tr>\n",
       "    <tr>\n",
       "      <th>test_recall</th>\n",
       "      <td>0.672435</td>\n",
       "      <td>0.463445</td>\n",
       "      <td>0.853643</td>\n",
       "      <td>0.754171</td>\n",
       "      <td>0.610690</td>\n",
       "      <td>0.786767</td>\n",
       "    </tr>\n",
       "    <tr>\n",
       "      <th>train_recall</th>\n",
       "      <td>0.673372</td>\n",
       "      <td>0.464149</td>\n",
       "      <td>0.922232</td>\n",
       "      <td>0.997412</td>\n",
       "      <td>0.610303</td>\n",
       "      <td>0.841285</td>\n",
       "    </tr>\n",
       "    <tr>\n",
       "      <th>test_AUC</th>\n",
       "      <td>0.819272</td>\n",
       "      <td>0.525421</td>\n",
       "      <td>0.824003</td>\n",
       "      <td>0.841168</td>\n",
       "      <td>0.750070</td>\n",
       "      <td>0.909265</td>\n",
       "    </tr>\n",
       "    <tr>\n",
       "      <th>train_AUC</th>\n",
       "      <td>0.829304</td>\n",
       "      <td>0.526867</td>\n",
       "      <td>0.990274</td>\n",
       "      <td>0.999845</td>\n",
       "      <td>0.750885</td>\n",
       "      <td>0.989615</td>\n",
       "    </tr>\n",
       "    <tr>\n",
       "      <th>test_F1</th>\n",
       "      <td>0.732444</td>\n",
       "      <td>0.358019</td>\n",
       "      <td>0.772219</td>\n",
       "      <td>0.759370</td>\n",
       "      <td>0.665258</td>\n",
       "      <td>0.824483</td>\n",
       "    </tr>\n",
       "    <tr>\n",
       "      <th>train_F1</th>\n",
       "      <td>0.736451</td>\n",
       "      <td>0.359456</td>\n",
       "      <td>0.941899</td>\n",
       "      <td>0.996552</td>\n",
       "      <td>0.667755</td>\n",
       "      <td>0.911099</td>\n",
       "    </tr>\n",
       "    <tr>\n",
       "      <th>test_log loss</th>\n",
       "      <td>-0.500989</td>\n",
       "      <td>-0.684040</td>\n",
       "      <td>-3.975714</td>\n",
       "      <td>-0.575095</td>\n",
       "      <td>-0.589729</td>\n",
       "      <td>-0.368194</td>\n",
       "    </tr>\n",
       "    <tr>\n",
       "      <th>train_log loss</th>\n",
       "      <td>-0.490524</td>\n",
       "      <td>-0.681117</td>\n",
       "      <td>-0.116718</td>\n",
       "      <td>-0.104326</td>\n",
       "      <td>-0.583705</td>\n",
       "      <td>-0.214187</td>\n",
       "    </tr>\n",
       "  </tbody>\n",
       "</table>\n",
       "</div>"
      ],
      "text/plain": [
       "                 XGBoost  MLP Classifier       KNN  Random Forest  \\\n",
       "fit_time        5.584847      135.797873  1.223761      30.590641   \n",
       "score_time      0.253681        4.179441  2.460212       3.153895   \n",
       "test_Acc        0.754253        0.524545  0.746950       0.760822   \n",
       "train_Acc       0.759042        0.525881  0.943116       0.996549   \n",
       "test_AP         0.850660        0.525744  0.774099       0.871102   \n",
       "train_AP        0.857444        0.527609  0.984835       0.999841   \n",
       "test_recall     0.672435        0.463445  0.853643       0.754171   \n",
       "train_recall    0.673372        0.464149  0.922232       0.997412   \n",
       "test_AUC        0.819272        0.525421  0.824003       0.841168   \n",
       "train_AUC       0.829304        0.526867  0.990274       0.999845   \n",
       "test_F1         0.732444        0.358019  0.772219       0.759370   \n",
       "train_F1        0.736451        0.359456  0.941899       0.996552   \n",
       "test_log loss  -0.500989       -0.684040 -3.975714      -0.575095   \n",
       "train_log loss -0.490524       -0.681117 -0.116718      -0.104326   \n",
       "\n",
       "                Logistic Regression    Stacking  \n",
       "fit_time                   1.413201  979.590659  \n",
       "score_time                 0.109669    4.448788  \n",
       "test_Acc                   0.692286    0.832227  \n",
       "train_Acc                  0.696587    0.918039  \n",
       "test_AP                    0.782266    0.925321  \n",
       "train_AP                   0.782606    0.991127  \n",
       "test_recall                0.610690    0.786767  \n",
       "train_recall               0.610303    0.841285  \n",
       "test_AUC                   0.750070    0.909265  \n",
       "train_AUC                  0.750885    0.989615  \n",
       "test_F1                    0.665258    0.824483  \n",
       "train_F1                   0.667755    0.911099  \n",
       "test_log loss             -0.589729   -0.368194  \n",
       "train_log loss            -0.583705   -0.214187  "
      ]
     },
     "execution_count": 51,
     "metadata": {},
     "output_type": "execute_result"
    }
   ],
   "source": [
    "from sklearn.neural_network import MLPClassifier\n",
    "clf1 = XGBClassifier(random_state = 44, nthread = 4)\n",
    "clf2 = MLPClassifier(hidden_layer_sizes=(100,100,100), max_iter=50, alpha=0.0001,\n",
    "                     solver='adam', verbose=1,  random_state=21,tol=0.000001)\n",
    "clf3 = KNeighborsClassifier(n_neighbors=3, n_jobs = -1)\n",
    "clf4 = RandomForestClassifier(random_state = 44,n_jobs = -1)\n",
    "clf5 = LogisticRegression(random_state = 44,n_jobs = -1)\n",
    "estimators = [\n",
    "    ('xgb', XGBClassifier(random_state = 44, nthread = 4)),\n",
    "    ('MLP', MLPClassifier(hidden_layer_sizes=(100,100,100), max_iter=50, alpha=0.0001,\n",
    "                          solver='adam', verbose=1,  random_state=21,tol=0.000001)),\n",
    "    ('knn3', KNeighborsClassifier(n_neighbors=3, n_jobs = -1)),\n",
    "    ('rf', RandomForestClassifier(random_state = 44,n_jobs = -1)),\n",
    "    ('lr', LogisticRegression(random_state = 44,n_jobs = -1))]\n",
    "eclf = StackingClassifier(estimators=estimators, final_estimator=XGBClassifier(), n_jobs = -1, passthrough=False)\n",
    "labels = ['XGBoost','MLP Classifier', 'KNN', 'Random Forest', 'Logistic Regression', 'Stacking']\n",
    "df = pd.DataFrame()\n",
    "for clf, label in zip([clf1, clf2, clf3,clf4,clf5,eclf], labels):\n",
    "    start = time.time()\n",
    "    scores = cross_validate(clf, UserF, dfy.values.ravel(), cv=5,scoring=scoring,n_jobs=-1,return_train_score=True)\n",
    "    end = time.time()\n",
    "    print(label)\n",
    "    t = pd.DataFrame.from_dict(scores)\n",
    "    df = pd.concat([df,t.mean()],axis =1)\n",
    "    df.rename(columns={0: label}, inplace=True)\n",
    "    #print(\"[%s], Duration %0.2f\" % (label, end-start))\n",
    "    #print(t.mean())\n",
    "df"
   ]
  },
  {
   "cell_type": "code",
   "execution_count": 2,
   "metadata": {
    "pycharm": {
     "name": "#%%\n"
    }
   },
   "outputs": [
    {
     "name": "stdout",
     "output_type": "stream",
     "text": [
      "XGBoost\n",
      "MLP Classifier\n",
      "KNN\n",
      "Random Forest\n",
      "Logistic Regression\n",
      "Stacking\n"
     ]
    },
    {
     "data": {
      "text/html": [
       "<div>\n",
       "<style scoped>\n",
       "    .dataframe tbody tr th:only-of-type {\n",
       "        vertical-align: middle;\n",
       "    }\n",
       "\n",
       "    .dataframe tbody tr th {\n",
       "        vertical-align: top;\n",
       "    }\n",
       "\n",
       "    .dataframe thead th {\n",
       "        text-align: right;\n",
       "    }\n",
       "</style>\n",
       "<table border=\"1\" class=\"dataframe\">\n",
       "  <thead>\n",
       "    <tr style=\"text-align: right;\">\n",
       "      <th></th>\n",
       "      <th>XGBoost</th>\n",
       "      <th>MLP Classifier</th>\n",
       "      <th>KNN</th>\n",
       "      <th>Random Forest</th>\n",
       "      <th>Logistic Regression</th>\n",
       "      <th>Stacking</th>\n",
       "    </tr>\n",
       "  </thead>\n",
       "  <tbody>\n",
       "    <tr>\n",
       "      <th>fit_time</th>\n",
       "      <td>5.538394</td>\n",
       "      <td>115.814203</td>\n",
       "      <td>0.999711</td>\n",
       "      <td>28.210970</td>\n",
       "      <td>1.370891</td>\n",
       "      <td>709.066157</td>\n",
       "    </tr>\n",
       "    <tr>\n",
       "      <th>score_time</th>\n",
       "      <td>0.335134</td>\n",
       "      <td>2.801540</td>\n",
       "      <td>2.355906</td>\n",
       "      <td>3.203635</td>\n",
       "      <td>0.076883</td>\n",
       "      <td>5.726628</td>\n",
       "    </tr>\n",
       "    <tr>\n",
       "      <th>test_Acc</th>\n",
       "      <td>0.754253</td>\n",
       "      <td>0.524545</td>\n",
       "      <td>0.746950</td>\n",
       "      <td>0.760822</td>\n",
       "      <td>0.692286</td>\n",
       "      <td>0.823435</td>\n",
       "    </tr>\n",
       "    <tr>\n",
       "      <th>train_Acc</th>\n",
       "      <td>0.759042</td>\n",
       "      <td>0.525881</td>\n",
       "      <td>0.943116</td>\n",
       "      <td>0.996549</td>\n",
       "      <td>0.696587</td>\n",
       "      <td>0.909931</td>\n",
       "    </tr>\n",
       "    <tr>\n",
       "      <th>test_AP</th>\n",
       "      <td>0.850660</td>\n",
       "      <td>0.525744</td>\n",
       "      <td>0.774099</td>\n",
       "      <td>0.871101</td>\n",
       "      <td>0.782266</td>\n",
       "      <td>0.911644</td>\n",
       "    </tr>\n",
       "    <tr>\n",
       "      <th>train_AP</th>\n",
       "      <td>0.857444</td>\n",
       "      <td>0.527609</td>\n",
       "      <td>0.984835</td>\n",
       "      <td>0.999841</td>\n",
       "      <td>0.782606</td>\n",
       "      <td>0.972169</td>\n",
       "    </tr>\n",
       "    <tr>\n",
       "      <th>test_recall</th>\n",
       "      <td>0.672435</td>\n",
       "      <td>0.463445</td>\n",
       "      <td>0.853643</td>\n",
       "      <td>0.754171</td>\n",
       "      <td>0.610690</td>\n",
       "      <td>0.809418</td>\n",
       "    </tr>\n",
       "    <tr>\n",
       "      <th>train_recall</th>\n",
       "      <td>0.673372</td>\n",
       "      <td>0.464149</td>\n",
       "      <td>0.922232</td>\n",
       "      <td>0.997412</td>\n",
       "      <td>0.610303</td>\n",
       "      <td>0.856104</td>\n",
       "    </tr>\n",
       "    <tr>\n",
       "      <th>test_AUC</th>\n",
       "      <td>0.819272</td>\n",
       "      <td>0.525421</td>\n",
       "      <td>0.824003</td>\n",
       "      <td>0.841168</td>\n",
       "      <td>0.750070</td>\n",
       "      <td>0.897255</td>\n",
       "    </tr>\n",
       "    <tr>\n",
       "      <th>train_AUC</th>\n",
       "      <td>0.829304</td>\n",
       "      <td>0.526867</td>\n",
       "      <td>0.990274</td>\n",
       "      <td>0.999845</td>\n",
       "      <td>0.750885</td>\n",
       "      <td>0.966275</td>\n",
       "    </tr>\n",
       "    <tr>\n",
       "      <th>test_F1</th>\n",
       "      <td>0.732444</td>\n",
       "      <td>0.358019</td>\n",
       "      <td>0.772219</td>\n",
       "      <td>0.759370</td>\n",
       "      <td>0.665258</td>\n",
       "      <td>0.821387</td>\n",
       "    </tr>\n",
       "    <tr>\n",
       "      <th>train_F1</th>\n",
       "      <td>0.736451</td>\n",
       "      <td>0.359456</td>\n",
       "      <td>0.941899</td>\n",
       "      <td>0.996552</td>\n",
       "      <td>0.667755</td>\n",
       "      <td>0.904835</td>\n",
       "    </tr>\n",
       "    <tr>\n",
       "      <th>test_log loss</th>\n",
       "      <td>-0.500989</td>\n",
       "      <td>-0.684040</td>\n",
       "      <td>-3.975714</td>\n",
       "      <td>-0.575095</td>\n",
       "      <td>-0.589729</td>\n",
       "      <td>-0.475154</td>\n",
       "    </tr>\n",
       "    <tr>\n",
       "      <th>train_log loss</th>\n",
       "      <td>-0.490524</td>\n",
       "      <td>-0.681117</td>\n",
       "      <td>-0.116718</td>\n",
       "      <td>-0.104326</td>\n",
       "      <td>-0.583705</td>\n",
       "      <td>-0.233897</td>\n",
       "    </tr>\n",
       "  </tbody>\n",
       "</table>\n",
       "</div>"
      ],
      "text/plain": [
       "                 XGBoost  MLP Classifier       KNN  Random Forest  \\\n",
       "fit_time        5.538394      115.814203  0.999711      28.210970   \n",
       "score_time      0.335134        2.801540  2.355906       3.203635   \n",
       "test_Acc        0.754253        0.524545  0.746950       0.760822   \n",
       "train_Acc       0.759042        0.525881  0.943116       0.996549   \n",
       "test_AP         0.850660        0.525744  0.774099       0.871101   \n",
       "train_AP        0.857444        0.527609  0.984835       0.999841   \n",
       "test_recall     0.672435        0.463445  0.853643       0.754171   \n",
       "train_recall    0.673372        0.464149  0.922232       0.997412   \n",
       "test_AUC        0.819272        0.525421  0.824003       0.841168   \n",
       "train_AUC       0.829304        0.526867  0.990274       0.999845   \n",
       "test_F1         0.732444        0.358019  0.772219       0.759370   \n",
       "train_F1        0.736451        0.359456  0.941899       0.996552   \n",
       "test_log loss  -0.500989       -0.684040 -3.975714      -0.575095   \n",
       "train_log loss -0.490524       -0.681117 -0.116718      -0.104326   \n",
       "\n",
       "                Logistic Regression    Stacking  \n",
       "fit_time                   1.370891  709.066157  \n",
       "score_time                 0.076883    5.726628  \n",
       "test_Acc                   0.692286    0.823435  \n",
       "train_Acc                  0.696587    0.909931  \n",
       "test_AP                    0.782266    0.911644  \n",
       "train_AP                   0.782606    0.972169  \n",
       "test_recall                0.610690    0.809418  \n",
       "train_recall               0.610303    0.856104  \n",
       "test_AUC                   0.750070    0.897255  \n",
       "train_AUC                  0.750885    0.966275  \n",
       "test_F1                    0.665258    0.821387  \n",
       "train_F1                   0.667755    0.904835  \n",
       "test_log loss             -0.589729   -0.475154  \n",
       "train_log loss            -0.583705   -0.233897  "
      ]
     },
     "execution_count": 2,
     "metadata": {},
     "output_type": "execute_result"
    }
   ],
   "source": [
    "# with Random Forest as meta learner\n",
    "clf1 = XGBClassifier(random_state = 44, nthread = 4)\n",
    "clf2 = MLPClassifier(hidden_layer_sizes=(100,100,100), max_iter=50, alpha=0.0001,\n",
    "                     solver='adam', verbose=1,  random_state=21,tol=0.000001)\n",
    "clf3 = KNeighborsClassifier(n_neighbors=3, n_jobs = -1)\n",
    "clf4 = RandomForestClassifier(random_state = 44,n_jobs = -1)\n",
    "clf5 = LogisticRegression(random_state = 44,n_jobs = -1)\n",
    "estimators = [\n",
    "    ('xgb', XGBClassifier(random_state = 44, nthread = 4)),\n",
    "    ('MLP', MLPClassifier(hidden_layer_sizes=(100,100,100), max_iter=50, alpha=0.0001,\n",
    "                          solver='adam', verbose=1,  random_state=21,tol=0.000001)),\n",
    "    ('knn3', KNeighborsClassifier(n_neighbors=3, n_jobs = -1)),\n",
    "    ('rf', RandomForestClassifier(random_state = 44,n_jobs = -1)),\n",
    "    ('lr', LogisticRegression(random_state = 44,n_jobs = -1))]\n",
    "eclf = StackingClassifier(estimators=estimators, final_estimator=RandomForestClassifier(random_state = 44,n_jobs = -1), n_jobs = -1, passthrough=False)\n",
    "labels = ['XGBoost','MLP Classifier', 'KNN', 'Random Forest', 'Logistic Regression', 'Stacking']\n",
    "df = pd.DataFrame()\n",
    "for clf, label in zip([clf1, clf2, clf3,clf4,clf5,eclf], labels):\n",
    "    start = time.time()\n",
    "    scores = cross_validate(clf, UserF, dfy.values.ravel(), cv=5,scoring=scoring,n_jobs=-1,return_train_score=True)\n",
    "    end = time.time()\n",
    "    print(label)\n",
    "    t = pd.DataFrame.from_dict(scores)\n",
    "    df = pd.concat([df,t.mean()],axis =1)\n",
    "    df.rename(columns={0: label}, inplace=True)\n",
    "    #print(\"[%s], Duration %0.2f\" % (label, end-start))\n",
    "    #print(t.mean())\n",
    "df"
   ]
  },
  {
   "cell_type": "code",
   "execution_count": 29,
   "metadata": {
    "pycharm": {
     "name": "#%%\n"
    }
   },
   "outputs": [
    {
     "name": "stdout",
     "output_type": "stream",
     "text": [
      "XGBoost\n",
      "MLP Classifier\n",
      "KNN\n",
      "Random Forest\n",
      "Logistic Regression\n",
      "Stacking\n"
     ]
    },
    {
     "data": {
      "text/html": [
       "<div>\n",
       "<style scoped>\n",
       "    .dataframe tbody tr th:only-of-type {\n",
       "        vertical-align: middle;\n",
       "    }\n",
       "\n",
       "    .dataframe tbody tr th {\n",
       "        vertical-align: top;\n",
       "    }\n",
       "\n",
       "    .dataframe thead th {\n",
       "        text-align: right;\n",
       "    }\n",
       "</style>\n",
       "<table border=\"1\" class=\"dataframe\">\n",
       "  <thead>\n",
       "    <tr style=\"text-align: right;\">\n",
       "      <th></th>\n",
       "      <th>XGBoost</th>\n",
       "      <th>MLP Classifier</th>\n",
       "      <th>KNN</th>\n",
       "      <th>Random Forest</th>\n",
       "      <th>Logistic Regression</th>\n",
       "      <th>Stacking</th>\n",
       "    </tr>\n",
       "  </thead>\n",
       "  <tbody>\n",
       "    <tr>\n",
       "      <th>fit_time</th>\n",
       "      <td>2.343733</td>\n",
       "      <td>314.067695</td>\n",
       "      <td>4.422387</td>\n",
       "      <td>11.940701</td>\n",
       "      <td>0.752990</td>\n",
       "      <td>1641.744771</td>\n",
       "    </tr>\n",
       "    <tr>\n",
       "      <th>score_time</th>\n",
       "      <td>0.134247</td>\n",
       "      <td>2.118681</td>\n",
       "      <td>2.710566</td>\n",
       "      <td>2.097946</td>\n",
       "      <td>0.079673</td>\n",
       "      <td>4.385241</td>\n",
       "    </tr>\n",
       "    <tr>\n",
       "      <th>test_Acc</th>\n",
       "      <td>0.749687</td>\n",
       "      <td>0.750269</td>\n",
       "      <td>0.729050</td>\n",
       "      <td>0.778950</td>\n",
       "      <td>0.713024</td>\n",
       "      <td>0.783372</td>\n",
       "    </tr>\n",
       "    <tr>\n",
       "      <th>train_Acc</th>\n",
       "      <td>0.751747</td>\n",
       "      <td>0.753658</td>\n",
       "      <td>0.792719</td>\n",
       "      <td>0.844642</td>\n",
       "      <td>0.713210</td>\n",
       "      <td>0.833090</td>\n",
       "    </tr>\n",
       "    <tr>\n",
       "      <th>test_AP</th>\n",
       "      <td>0.845561</td>\n",
       "      <td>0.846270</td>\n",
       "      <td>0.776480</td>\n",
       "      <td>0.863409</td>\n",
       "      <td>0.800677</td>\n",
       "      <td>0.881084</td>\n",
       "    </tr>\n",
       "    <tr>\n",
       "      <th>train_AP</th>\n",
       "      <td>0.848315</td>\n",
       "      <td>0.849777</td>\n",
       "      <td>0.850072</td>\n",
       "      <td>0.932990</td>\n",
       "      <td>0.800891</td>\n",
       "      <td>0.918392</td>\n",
       "    </tr>\n",
       "    <tr>\n",
       "      <th>test_recall</th>\n",
       "      <td>0.664821</td>\n",
       "      <td>0.671409</td>\n",
       "      <td>0.687143</td>\n",
       "      <td>0.673436</td>\n",
       "      <td>0.538151</td>\n",
       "      <td>0.665214</td>\n",
       "    </tr>\n",
       "    <tr>\n",
       "      <th>train_recall</th>\n",
       "      <td>0.665002</td>\n",
       "      <td>0.672517</td>\n",
       "      <td>0.744201</td>\n",
       "      <td>0.733614</td>\n",
       "      <td>0.537786</td>\n",
       "      <td>0.708872</td>\n",
       "    </tr>\n",
       "    <tr>\n",
       "      <th>test_AUC</th>\n",
       "      <td>0.814667</td>\n",
       "      <td>0.815012</td>\n",
       "      <td>0.786382</td>\n",
       "      <td>0.832301</td>\n",
       "      <td>0.778473</td>\n",
       "      <td>0.848992</td>\n",
       "    </tr>\n",
       "    <tr>\n",
       "      <th>train_AUC</th>\n",
       "      <td>0.818057</td>\n",
       "      <td>0.819235</td>\n",
       "      <td>0.856465</td>\n",
       "      <td>0.913782</td>\n",
       "      <td>0.779331</td>\n",
       "      <td>0.891092</td>\n",
       "    </tr>\n",
       "    <tr>\n",
       "      <th>test_F1</th>\n",
       "      <td>0.726592</td>\n",
       "      <td>0.728971</td>\n",
       "      <td>0.717345</td>\n",
       "      <td>0.753007</td>\n",
       "      <td>0.652254</td>\n",
       "      <td>0.754480</td>\n",
       "    </tr>\n",
       "    <tr>\n",
       "      <th>train_F1</th>\n",
       "      <td>0.728161</td>\n",
       "      <td>0.731788</td>\n",
       "      <td>0.782170</td>\n",
       "      <td>0.825237</td>\n",
       "      <td>0.652196</td>\n",
       "      <td>0.809405</td>\n",
       "    </tr>\n",
       "    <tr>\n",
       "      <th>test_log loss</th>\n",
       "      <td>-0.506831</td>\n",
       "      <td>-0.508821</td>\n",
       "      <td>-3.541879</td>\n",
       "      <td>-0.704087</td>\n",
       "      <td>-0.581231</td>\n",
       "      <td>-0.450507</td>\n",
       "    </tr>\n",
       "    <tr>\n",
       "      <th>train_log loss</th>\n",
       "      <td>-0.502258</td>\n",
       "      <td>-0.501271</td>\n",
       "      <td>-2.189287</td>\n",
       "      <td>-0.331704</td>\n",
       "      <td>-0.577677</td>\n",
       "      <td>-0.384111</td>\n",
       "    </tr>\n",
       "  </tbody>\n",
       "</table>\n",
       "</div>"
      ],
      "text/plain": [
       "                 XGBoost  MLP Classifier       KNN  Random Forest  \\\n",
       "fit_time        2.343733      314.067695  4.422387      11.940701   \n",
       "score_time      0.134247        2.118681  2.710566       2.097946   \n",
       "test_Acc        0.749687        0.750269  0.729050       0.778950   \n",
       "train_Acc       0.751747        0.753658  0.792719       0.844642   \n",
       "test_AP         0.845561        0.846270  0.776480       0.863409   \n",
       "train_AP        0.848315        0.849777  0.850072       0.932990   \n",
       "test_recall     0.664821        0.671409  0.687143       0.673436   \n",
       "train_recall    0.665002        0.672517  0.744201       0.733614   \n",
       "test_AUC        0.814667        0.815012  0.786382       0.832301   \n",
       "train_AUC       0.818057        0.819235  0.856465       0.913782   \n",
       "test_F1         0.726592        0.728971  0.717345       0.753007   \n",
       "train_F1        0.728161        0.731788  0.782170       0.825237   \n",
       "test_log loss  -0.506831       -0.508821 -3.541879      -0.704087   \n",
       "train_log loss -0.502258       -0.501271 -2.189287      -0.331704   \n",
       "\n",
       "                Logistic Regression     Stacking  \n",
       "fit_time                   0.752990  1641.744771  \n",
       "score_time                 0.079673     4.385241  \n",
       "test_Acc                   0.713024     0.783372  \n",
       "train_Acc                  0.713210     0.833090  \n",
       "test_AP                    0.800677     0.881084  \n",
       "train_AP                   0.800891     0.918392  \n",
       "test_recall                0.538151     0.665214  \n",
       "train_recall               0.537786     0.708872  \n",
       "test_AUC                   0.778473     0.848992  \n",
       "train_AUC                  0.779331     0.891092  \n",
       "test_F1                    0.652254     0.754480  \n",
       "train_F1                   0.652196     0.809405  \n",
       "test_log loss             -0.581231    -0.450507  \n",
       "train_log loss            -0.577677    -0.384111  "
      ]
     },
     "execution_count": 29,
     "metadata": {},
     "output_type": "execute_result"
    }
   ],
   "source": [
    "eclf = StackingClassifier(estimators=estimators, final_estimator=XGBClassifier(), n_jobs = -1, passthrough=True)\n",
    "labels = ['XGBoost','MLP Classifier', 'KNN', 'Random Forest', 'Logistic Regression', 'Stacking']\n",
    "df = pd.DataFrame()\n",
    "for clf, label in zip([clf1, clf2, clf3,clf4,clf5,eclf], labels):\n",
    "    start = time.time()\n",
    "    scores = cross_validate(clf, UserF, dfy.values.ravel(), cv=5,scoring=scoring,n_jobs=-1,return_train_score=True)\n",
    "    end = time.time()\n",
    "    print(label)\n",
    "    t = pd.DataFrame.from_dict(scores)\n",
    "    df = pd.concat([df,t.mean()],axis =1)\n",
    "    df.rename(columns={0: label}, inplace=True)\n",
    "    #print(\"[%s], Duration %0.2f\" % (label, end-start))\n",
    "    #print(t.mean())\n",
    "df"
   ]
  },
  {
   "cell_type": "code",
   "execution_count": 28,
   "metadata": {
    "pycharm": {
     "name": "#%%\n"
    }
   },
   "outputs": [
    {
     "name": "stdout",
     "output_type": "stream",
     "text": [
      "XGBoost\n",
      "MLP Classifier\n",
      "KNN\n",
      "Random Forest\n",
      "Logistic Regression\n",
      "Stacking\n"
     ]
    },
    {
     "data": {
      "text/html": [
       "<div>\n",
       "<style scoped>\n",
       "    .dataframe tbody tr th:only-of-type {\n",
       "        vertical-align: middle;\n",
       "    }\n",
       "\n",
       "    .dataframe tbody tr th {\n",
       "        vertical-align: top;\n",
       "    }\n",
       "\n",
       "    .dataframe thead th {\n",
       "        text-align: right;\n",
       "    }\n",
       "</style>\n",
       "<table border=\"1\" class=\"dataframe\">\n",
       "  <thead>\n",
       "    <tr style=\"text-align: right;\">\n",
       "      <th></th>\n",
       "      <th>XGBoost</th>\n",
       "      <th>MLP Classifier</th>\n",
       "      <th>KNN</th>\n",
       "      <th>Random Forest</th>\n",
       "      <th>Logistic Regression</th>\n",
       "      <th>Stacking</th>\n",
       "    </tr>\n",
       "  </thead>\n",
       "  <tbody>\n",
       "    <tr>\n",
       "      <th>fit_time</th>\n",
       "      <td>6.013580</td>\n",
       "      <td>370.237382</td>\n",
       "      <td>6.815596</td>\n",
       "      <td>20.683987</td>\n",
       "      <td>1.117284</td>\n",
       "      <td>2356.347162</td>\n",
       "    </tr>\n",
       "    <tr>\n",
       "      <th>score_time</th>\n",
       "      <td>0.337973</td>\n",
       "      <td>2.486471</td>\n",
       "      <td>4.065872</td>\n",
       "      <td>4.969667</td>\n",
       "      <td>0.099733</td>\n",
       "      <td>9.623077</td>\n",
       "    </tr>\n",
       "    <tr>\n",
       "      <th>test_Acc</th>\n",
       "      <td>0.749687</td>\n",
       "      <td>0.750269</td>\n",
       "      <td>0.729050</td>\n",
       "      <td>0.778950</td>\n",
       "      <td>0.713024</td>\n",
       "      <td>0.778184</td>\n",
       "    </tr>\n",
       "    <tr>\n",
       "      <th>train_Acc</th>\n",
       "      <td>0.751747</td>\n",
       "      <td>0.753658</td>\n",
       "      <td>0.792719</td>\n",
       "      <td>0.844642</td>\n",
       "      <td>0.713210</td>\n",
       "      <td>0.819641</td>\n",
       "    </tr>\n",
       "    <tr>\n",
       "      <th>test_AP</th>\n",
       "      <td>0.845561</td>\n",
       "      <td>0.846270</td>\n",
       "      <td>0.776480</td>\n",
       "      <td>0.863409</td>\n",
       "      <td>0.800677</td>\n",
       "      <td>0.873801</td>\n",
       "    </tr>\n",
       "    <tr>\n",
       "      <th>train_AP</th>\n",
       "      <td>0.848315</td>\n",
       "      <td>0.849777</td>\n",
       "      <td>0.850072</td>\n",
       "      <td>0.932990</td>\n",
       "      <td>0.800891</td>\n",
       "      <td>0.910160</td>\n",
       "    </tr>\n",
       "    <tr>\n",
       "      <th>test_recall</th>\n",
       "      <td>0.664821</td>\n",
       "      <td>0.671409</td>\n",
       "      <td>0.687143</td>\n",
       "      <td>0.673436</td>\n",
       "      <td>0.538151</td>\n",
       "      <td>0.684888</td>\n",
       "    </tr>\n",
       "    <tr>\n",
       "      <th>train_recall</th>\n",
       "      <td>0.665002</td>\n",
       "      <td>0.672517</td>\n",
       "      <td>0.744201</td>\n",
       "      <td>0.733614</td>\n",
       "      <td>0.537786</td>\n",
       "      <td>0.718006</td>\n",
       "    </tr>\n",
       "    <tr>\n",
       "      <th>test_AUC</th>\n",
       "      <td>0.814667</td>\n",
       "      <td>0.815012</td>\n",
       "      <td>0.786382</td>\n",
       "      <td>0.832300</td>\n",
       "      <td>0.778473</td>\n",
       "      <td>0.840543</td>\n",
       "    </tr>\n",
       "    <tr>\n",
       "      <th>train_AUC</th>\n",
       "      <td>0.818057</td>\n",
       "      <td>0.819235</td>\n",
       "      <td>0.856465</td>\n",
       "      <td>0.913782</td>\n",
       "      <td>0.779331</td>\n",
       "      <td>0.880133</td>\n",
       "    </tr>\n",
       "    <tr>\n",
       "      <th>test_F1</th>\n",
       "      <td>0.726592</td>\n",
       "      <td>0.728971</td>\n",
       "      <td>0.717345</td>\n",
       "      <td>0.753007</td>\n",
       "      <td>0.652254</td>\n",
       "      <td>0.755498</td>\n",
       "    </tr>\n",
       "    <tr>\n",
       "      <th>train_F1</th>\n",
       "      <td>0.728161</td>\n",
       "      <td>0.731788</td>\n",
       "      <td>0.782170</td>\n",
       "      <td>0.825237</td>\n",
       "      <td>0.652196</td>\n",
       "      <td>0.799235</td>\n",
       "    </tr>\n",
       "    <tr>\n",
       "      <th>test_log loss</th>\n",
       "      <td>-0.506831</td>\n",
       "      <td>-0.508821</td>\n",
       "      <td>-3.541879</td>\n",
       "      <td>-0.704087</td>\n",
       "      <td>-0.581231</td>\n",
       "      <td>-0.487231</td>\n",
       "    </tr>\n",
       "    <tr>\n",
       "      <th>train_log loss</th>\n",
       "      <td>-0.502258</td>\n",
       "      <td>-0.501271</td>\n",
       "      <td>-2.189287</td>\n",
       "      <td>-0.331704</td>\n",
       "      <td>-0.577677</td>\n",
       "      <td>-0.393545</td>\n",
       "    </tr>\n",
       "  </tbody>\n",
       "</table>\n",
       "</div>"
      ],
      "text/plain": [
       "                 XGBoost  MLP Classifier       KNN  Random Forest  \\\n",
       "fit_time        6.013580      370.237382  6.815596      20.683987   \n",
       "score_time      0.337973        2.486471  4.065872       4.969667   \n",
       "test_Acc        0.749687        0.750269  0.729050       0.778950   \n",
       "train_Acc       0.751747        0.753658  0.792719       0.844642   \n",
       "test_AP         0.845561        0.846270  0.776480       0.863409   \n",
       "train_AP        0.848315        0.849777  0.850072       0.932990   \n",
       "test_recall     0.664821        0.671409  0.687143       0.673436   \n",
       "train_recall    0.665002        0.672517  0.744201       0.733614   \n",
       "test_AUC        0.814667        0.815012  0.786382       0.832300   \n",
       "train_AUC       0.818057        0.819235  0.856465       0.913782   \n",
       "test_F1         0.726592        0.728971  0.717345       0.753007   \n",
       "train_F1        0.728161        0.731788  0.782170       0.825237   \n",
       "test_log loss  -0.506831       -0.508821 -3.541879      -0.704087   \n",
       "train_log loss -0.502258       -0.501271 -2.189287      -0.331704   \n",
       "\n",
       "                Logistic Regression     Stacking  \n",
       "fit_time                   1.117284  2356.347162  \n",
       "score_time                 0.099733     9.623077  \n",
       "test_Acc                   0.713024     0.778184  \n",
       "train_Acc                  0.713210     0.819641  \n",
       "test_AP                    0.800677     0.873801  \n",
       "train_AP                   0.800891     0.910160  \n",
       "test_recall                0.538151     0.684888  \n",
       "train_recall               0.537786     0.718006  \n",
       "test_AUC                   0.778473     0.840543  \n",
       "train_AUC                  0.779331     0.880133  \n",
       "test_F1                    0.652254     0.755498  \n",
       "train_F1                   0.652196     0.799235  \n",
       "test_log loss             -0.581231    -0.487231  \n",
       "train_log loss            -0.577677    -0.393545  "
      ]
     },
     "execution_count": 28,
     "metadata": {},
     "output_type": "execute_result"
    }
   ],
   "source": [
    "# Final estimator RF and Passthrough = True\n",
    "dfx = pd.read_csv(\"X_ReSampled.csv\")\n",
    "dfy = pd.read_csv(\"Y_ReSampled.csv\")\n",
    "UserF = dfx[['UCcounts','avg_Urating','Uavg#word','day_rating']].copy()\n",
    "clf1 = XGBClassifier(random_state = 44, nthread = 4)\n",
    "clf2 = MLPClassifier(hidden_layer_sizes=(100,100,100), max_iter=50, alpha=0.0001,\n",
    "                     solver='adam', verbose=1,  random_state=21,tol=0.000001)\n",
    "clf3 = KNeighborsClassifier(n_neighbors=3, n_jobs = -1)\n",
    "clf4 = RandomForestClassifier(random_state = 44,n_jobs = -1)\n",
    "clf5 = LogisticRegression(random_state = 44,n_jobs = -1)\n",
    "estimators = [\n",
    "    ('xgb', XGBClassifier(random_state = 44, nthread = 4)),\n",
    "    ('MLP', MLPClassifier(hidden_layer_sizes=(100,100,100), max_iter=50, alpha=0.0001,\n",
    "                          solver='adam', verbose=1,  random_state=21,tol=0.000001)),\n",
    "    ('knn3', KNeighborsClassifier(n_neighbors=3, n_jobs = -1)),\n",
    "    ('rf', RandomForestClassifier(random_state = 44,n_jobs = -1)),\n",
    "    ('lr', LogisticRegression(random_state = 44,n_jobs = -1))]\n",
    "eclf = StackingClassifier(estimators=estimators, final_estimator=RandomForestClassifier(random_state = 44,n_jobs = -1), n_jobs = -1, passthrough=True)\n",
    "labels = ['XGBoost','MLP Classifier', 'KNN', 'Random Forest', 'Logistic Regression', 'Stacking']\n",
    "df = pd.DataFrame()\n",
    "for clf, label in zip([clf1, clf2, clf3,clf4,clf5,eclf], labels):\n",
    "    start = time.time()\n",
    "    scores = cross_validate(clf, UserF, dfy.values.ravel(), cv=5,scoring=scoring,n_jobs=-1,return_train_score=True)\n",
    "    end = time.time()\n",
    "    print(label)\n",
    "    t = pd.DataFrame.from_dict(scores)\n",
    "    df = pd.concat([df,t.mean()],axis =1)\n",
    "    df.rename(columns={0: label}, inplace=True)\n",
    "    #print(\"[%s], Duration %0.2f\" % (label, end-start))\n",
    "    #print(t.mean())\n",
    "df"
   ]
  },
  {
   "cell_type": "code",
   "execution_count": 2,
   "metadata": {
    "pycharm": {
     "name": "#%%\n"
    }
   },
   "outputs": [
    {
     "name": "stdout",
     "output_type": "stream",
     "text": [
      "Accuracy: 48.82 (+/- 1.05)\n"
     ]
    }
   ],
   "source": [
    "dfWc = pd.read_csv(\"D:\\Yelp\\YelpZip\\YZtfidf.csv\")\n",
    "df = pd.read_csv(\"D:\\Yelp\\YelpZip\\YZProcessed.csv\")\n",
    "dfy = df[['label']].copy()\n",
    "del df\n",
    "from sklearn.model_selection import cross_val_score\n",
    "from sklearn.neighbors import NearestCentroid\n",
    "clf = NearestCentroid()\n",
    "scores = cross_val_score(clf, dfWc, dfy.values.ravel(), cv=5,scoring='accuracy',n_jobs=-1)\n",
    "print(\"Accuracy: %0.2f (+/- %0.2f)\" % (scores.mean()*100, scores.std()*100))"
   ]
  },
  {
   "cell_type": "code",
   "execution_count": 3,
   "metadata": {
    "pycharm": {
     "name": "#%%\n"
    }
   },
   "outputs": [
    {
     "name": "stdout",
     "output_type": "stream",
     "text": [
      "Accuracy: 70.15 (+/- 0.60)\n"
     ]
    }
   ],
   "source": [
    "from sklearn.model_selection import cross_val_score\n",
    "from sklearn.svm import NuSVC\n",
    "clf = LinearSVC(dual=False, random_state = 22)\n",
    "scores = cross_val_score(clf, UserF, dfy.values.ravel(), cv=5,scoring='accuracy',n_jobs=-1)\n",
    "print(\"Accuracy: %0.2f (+/- %0.2f)\" % (scores.mean()*100, scores.std()*100))"
   ]
  },
  {
   "cell_type": "markdown",
   "metadata": {
    "pycharm": {
     "name": "#%% md\n"
    }
   },
   "source": [
    "# Super Leaner Using Mlens"
   ]
  },
  {
   "cell_type": "code",
   "execution_count": 60,
   "metadata": {
    "pycharm": {
     "name": "#%%\n"
    }
   },
   "outputs": [
    {
     "name": "stdout",
     "output_type": "stream",
     "text": [
      "\n",
      "Fitting 2 layers\n",
      "Processing layer-1             done | 00:02:09\n"
     ]
    },
    {
     "ename": "TypeError",
     "evalue": "'(slice(0, None, None), [0, 1, 2, 3, 4, 5])' is an invalid key",
     "output_type": "error",
     "traceback": [
      "\u001B[1;31m---------------------------------------------------------------------------\u001B[0m",
      "\u001B[1;31mTypeError\u001B[0m                                 Traceback (most recent call last)",
      "\u001B[1;32m<ipython-input-60-bbb8c812bd03>\u001B[0m in \u001B[0;36m<module>\u001B[1;34m\u001B[0m\n\u001B[0;32m     15\u001B[0m     \u001B[1;32mreturn\u001B[0m \u001B[0mensemble\u001B[0m\u001B[1;33m\u001B[0m\u001B[1;33m\u001B[0m\u001B[0m\n\u001B[0;32m     16\u001B[0m \u001B[0mensemble\u001B[0m \u001B[1;33m=\u001B[0m \u001B[0mbuild_ensemble\u001B[0m\u001B[1;33m(\u001B[0m\u001B[0mproba\u001B[0m\u001B[1;33m=\u001B[0m\u001B[1;32mTrue\u001B[0m\u001B[1;33m)\u001B[0m\u001B[1;33m\u001B[0m\u001B[1;33m\u001B[0m\u001B[0m\n\u001B[1;32m---> 17\u001B[1;33m \u001B[0mensemble\u001B[0m\u001B[1;33m.\u001B[0m\u001B[0mfit\u001B[0m\u001B[1;33m(\u001B[0m\u001B[0mUserF\u001B[0m\u001B[1;33m[\u001B[0m\u001B[1;33m:\u001B[0m\u001B[1;36m100000\u001B[0m\u001B[1;33m]\u001B[0m\u001B[1;33m,\u001B[0m \u001B[0mdfy\u001B[0m\u001B[1;33m[\u001B[0m\u001B[1;33m:\u001B[0m\u001B[1;36m100000\u001B[0m\u001B[1;33m]\u001B[0m\u001B[1;33m.\u001B[0m\u001B[0mvalues\u001B[0m\u001B[1;33m.\u001B[0m\u001B[0mravel\u001B[0m\u001B[1;33m(\u001B[0m\u001B[1;33m)\u001B[0m\u001B[1;33m)\u001B[0m\u001B[1;33m\u001B[0m\u001B[1;33m\u001B[0m\u001B[0m\n\u001B[0m\u001B[0;32m     18\u001B[0m \u001B[0mpreds\u001B[0m \u001B[1;33m=\u001B[0m \u001B[0mensemble\u001B[0m\u001B[1;33m.\u001B[0m\u001B[0mpredict\u001B[0m\u001B[1;33m(\u001B[0m\u001B[0mUserF\u001B[0m\u001B[1;33m[\u001B[0m\u001B[1;36m100000\u001B[0m\u001B[1;33m:\u001B[0m\u001B[1;33m]\u001B[0m\u001B[1;33m)\u001B[0m\u001B[1;33m\u001B[0m\u001B[1;33m\u001B[0m\u001B[0m\n\u001B[0;32m     19\u001B[0m \u001B[0mprint\u001B[0m\u001B[1;33m(\u001B[0m\u001B[1;34m\"\\nAccuracy:\\n%r\"\u001B[0m \u001B[1;33m%\u001B[0m \u001B[0maccuracy_score\u001B[0m\u001B[1;33m(\u001B[0m\u001B[0mpreds\u001B[0m\u001B[1;33m,\u001B[0m \u001B[0mdfy\u001B[0m\u001B[1;33m[\u001B[0m\u001B[1;36m100000\u001B[0m\u001B[1;33m:\u001B[0m\u001B[1;33m]\u001B[0m\u001B[1;33m)\u001B[0m\u001B[1;33m)\u001B[0m\u001B[1;33m\u001B[0m\u001B[1;33m\u001B[0m\u001B[0m\n",
      "\u001B[1;32mC:\\ProgramData\\Anaconda3\\lib\\site-packages\\mlens\\ensemble\\base.py\u001B[0m in \u001B[0;36mfit\u001B[1;34m(self, X, y, **kwargs)\u001B[0m\n\u001B[0;32m    512\u001B[0m             \u001B[0mself\u001B[0m\u001B[1;33m.\u001B[0m\u001B[0m_id_train\u001B[0m\u001B[1;33m.\u001B[0m\u001B[0mfit\u001B[0m\u001B[1;33m(\u001B[0m\u001B[0mX\u001B[0m\u001B[1;33m)\u001B[0m\u001B[1;33m\u001B[0m\u001B[1;33m\u001B[0m\u001B[0m\n\u001B[0;32m    513\u001B[0m \u001B[1;33m\u001B[0m\u001B[0m\n\u001B[1;32m--> 514\u001B[1;33m         \u001B[0mout\u001B[0m \u001B[1;33m=\u001B[0m \u001B[0mself\u001B[0m\u001B[1;33m.\u001B[0m\u001B[0m_backend\u001B[0m\u001B[1;33m.\u001B[0m\u001B[0mfit\u001B[0m\u001B[1;33m(\u001B[0m\u001B[0mX\u001B[0m\u001B[1;33m,\u001B[0m \u001B[0my\u001B[0m\u001B[1;33m,\u001B[0m \u001B[1;33m**\u001B[0m\u001B[0mkwargs\u001B[0m\u001B[1;33m)\u001B[0m\u001B[1;33m\u001B[0m\u001B[1;33m\u001B[0m\u001B[0m\n\u001B[0m\u001B[0;32m    515\u001B[0m         \u001B[1;32mif\u001B[0m \u001B[0mout\u001B[0m \u001B[1;32mis\u001B[0m \u001B[1;32mnot\u001B[0m \u001B[0mself\u001B[0m\u001B[1;33m.\u001B[0m\u001B[0m_backend\u001B[0m\u001B[1;33m:\u001B[0m\u001B[1;33m\u001B[0m\u001B[1;33m\u001B[0m\u001B[0m\n\u001B[0;32m    516\u001B[0m             \u001B[1;31m# fit_transform\u001B[0m\u001B[1;33m\u001B[0m\u001B[1;33m\u001B[0m\u001B[1;33m\u001B[0m\u001B[0m\n",
      "\u001B[1;32mC:\\ProgramData\\Anaconda3\\lib\\site-packages\\mlens\\ensemble\\base.py\u001B[0m in \u001B[0;36mfit\u001B[1;34m(self, X, y, **kwargs)\u001B[0m\n\u001B[0;32m    156\u001B[0m         with ParallelProcessing(self.backend, self.n_jobs,\n\u001B[0;32m    157\u001B[0m                                 max(self.verbose - 4, 0)) as manager:\n\u001B[1;32m--> 158\u001B[1;33m             \u001B[0mout\u001B[0m \u001B[1;33m=\u001B[0m \u001B[0mmanager\u001B[0m\u001B[1;33m.\u001B[0m\u001B[0mstack\u001B[0m\u001B[1;33m(\u001B[0m\u001B[0mself\u001B[0m\u001B[1;33m,\u001B[0m \u001B[1;34m'fit'\u001B[0m\u001B[1;33m,\u001B[0m \u001B[0mX\u001B[0m\u001B[1;33m,\u001B[0m \u001B[0my\u001B[0m\u001B[1;33m,\u001B[0m \u001B[1;33m**\u001B[0m\u001B[0mkwargs\u001B[0m\u001B[1;33m)\u001B[0m\u001B[1;33m\u001B[0m\u001B[1;33m\u001B[0m\u001B[0m\n\u001B[0m\u001B[0;32m    159\u001B[0m \u001B[1;33m\u001B[0m\u001B[0m\n\u001B[0;32m    160\u001B[0m         \u001B[1;32mif\u001B[0m \u001B[0mself\u001B[0m\u001B[1;33m.\u001B[0m\u001B[0mverbose\u001B[0m\u001B[1;33m:\u001B[0m\u001B[1;33m\u001B[0m\u001B[1;33m\u001B[0m\u001B[0m\n",
      "\u001B[1;32mC:\\ProgramData\\Anaconda3\\lib\\site-packages\\mlens\\parallel\\backend.py\u001B[0m in \u001B[0;36mstack\u001B[1;34m(self, caller, job, X, y, path, return_preds, warm_start, split, **kwargs)\u001B[0m\n\u001B[0;32m    671\u001B[0m             \u001B[0mjob\u001B[0m\u001B[1;33m=\u001B[0m\u001B[0mjob\u001B[0m\u001B[1;33m,\u001B[0m \u001B[0mX\u001B[0m\u001B[1;33m=\u001B[0m\u001B[0mX\u001B[0m\u001B[1;33m,\u001B[0m \u001B[0my\u001B[0m\u001B[1;33m=\u001B[0m\u001B[0my\u001B[0m\u001B[1;33m,\u001B[0m \u001B[0mpath\u001B[0m\u001B[1;33m=\u001B[0m\u001B[0mpath\u001B[0m\u001B[1;33m,\u001B[0m \u001B[0mwarm_start\u001B[0m\u001B[1;33m=\u001B[0m\u001B[0mwarm_start\u001B[0m\u001B[1;33m,\u001B[0m\u001B[1;33m\u001B[0m\u001B[1;33m\u001B[0m\u001B[0m\n\u001B[0;32m    672\u001B[0m             return_preds=return_preds, split=split, stack=True)\n\u001B[1;32m--> 673\u001B[1;33m         \u001B[1;32mreturn\u001B[0m \u001B[0mself\u001B[0m\u001B[1;33m.\u001B[0m\u001B[0mprocess\u001B[0m\u001B[1;33m(\u001B[0m\u001B[0mcaller\u001B[0m\u001B[1;33m=\u001B[0m\u001B[0mcaller\u001B[0m\u001B[1;33m,\u001B[0m \u001B[0mout\u001B[0m\u001B[1;33m=\u001B[0m\u001B[0mout\u001B[0m\u001B[1;33m,\u001B[0m \u001B[1;33m**\u001B[0m\u001B[0mkwargs\u001B[0m\u001B[1;33m)\u001B[0m\u001B[1;33m\u001B[0m\u001B[1;33m\u001B[0m\u001B[0m\n\u001B[0m\u001B[0;32m    674\u001B[0m \u001B[1;33m\u001B[0m\u001B[0m\n\u001B[0;32m    675\u001B[0m     \u001B[1;32mdef\u001B[0m \u001B[0mprocess\u001B[0m\u001B[1;33m(\u001B[0m\u001B[0mself\u001B[0m\u001B[1;33m,\u001B[0m \u001B[0mcaller\u001B[0m\u001B[1;33m,\u001B[0m \u001B[0mout\u001B[0m\u001B[1;33m,\u001B[0m \u001B[1;33m**\u001B[0m\u001B[0mkwargs\u001B[0m\u001B[1;33m)\u001B[0m\u001B[1;33m:\u001B[0m\u001B[1;33m\u001B[0m\u001B[1;33m\u001B[0m\u001B[0m\n",
      "\u001B[1;32mC:\\ProgramData\\Anaconda3\\lib\\site-packages\\mlens\\parallel\\backend.py\u001B[0m in \u001B[0;36mprocess\u001B[1;34m(self, caller, out, **kwargs)\u001B[0m\n\u001B[0;32m    716\u001B[0m                 \u001B[0mself\u001B[0m\u001B[1;33m.\u001B[0m\u001B[0mjob\u001B[0m\u001B[1;33m.\u001B[0m\u001B[0mclear\u001B[0m\u001B[1;33m(\u001B[0m\u001B[1;33m)\u001B[0m\u001B[1;33m\u001B[0m\u001B[1;33m\u001B[0m\u001B[0m\n\u001B[0;32m    717\u001B[0m \u001B[1;33m\u001B[0m\u001B[0m\n\u001B[1;32m--> 718\u001B[1;33m                 \u001B[0mself\u001B[0m\u001B[1;33m.\u001B[0m\u001B[0m_partial_process\u001B[0m\u001B[1;33m(\u001B[0m\u001B[0mtask\u001B[0m\u001B[1;33m,\u001B[0m \u001B[0mparallel\u001B[0m\u001B[1;33m,\u001B[0m \u001B[1;33m**\u001B[0m\u001B[0mkwargs\u001B[0m\u001B[1;33m)\u001B[0m\u001B[1;33m\u001B[0m\u001B[1;33m\u001B[0m\u001B[0m\n\u001B[0m\u001B[0;32m    719\u001B[0m \u001B[1;33m\u001B[0m\u001B[0m\n\u001B[0;32m    720\u001B[0m                 \u001B[1;32mif\u001B[0m \u001B[0mtask\u001B[0m\u001B[1;33m.\u001B[0m\u001B[0mname\u001B[0m \u001B[1;32min\u001B[0m \u001B[0mreturn_names\u001B[0m\u001B[1;33m:\u001B[0m\u001B[1;33m\u001B[0m\u001B[1;33m\u001B[0m\u001B[0m\n",
      "\u001B[1;32mC:\\ProgramData\\Anaconda3\\lib\\site-packages\\mlens\\parallel\\backend.py\u001B[0m in \u001B[0;36m_partial_process\u001B[1;34m(self, task, parallel, **kwargs)\u001B[0m\n\u001B[0;32m    740\u001B[0m \u001B[1;33m\u001B[0m\u001B[0m\n\u001B[0;32m    741\u001B[0m         \u001B[1;32mif\u001B[0m \u001B[1;32mnot\u001B[0m \u001B[0mtask\u001B[0m\u001B[1;33m.\u001B[0m\u001B[0m__no_output__\u001B[0m \u001B[1;32mand\u001B[0m \u001B[0mgetattr\u001B[0m\u001B[1;33m(\u001B[0m\u001B[0mtask\u001B[0m\u001B[1;33m,\u001B[0m \u001B[1;34m'n_feature_prop'\u001B[0m\u001B[1;33m,\u001B[0m \u001B[1;36m0\u001B[0m\u001B[1;33m)\u001B[0m\u001B[1;33m:\u001B[0m\u001B[1;33m\u001B[0m\u001B[1;33m\u001B[0m\u001B[0m\n\u001B[1;32m--> 742\u001B[1;33m             \u001B[0mself\u001B[0m\u001B[1;33m.\u001B[0m\u001B[0m_propagate_features\u001B[0m\u001B[1;33m(\u001B[0m\u001B[0mtask\u001B[0m\u001B[1;33m)\u001B[0m\u001B[1;33m\u001B[0m\u001B[1;33m\u001B[0m\u001B[0m\n\u001B[0m\u001B[0;32m    743\u001B[0m \u001B[1;33m\u001B[0m\u001B[0m\n\u001B[0;32m    744\u001B[0m     \u001B[1;32mdef\u001B[0m \u001B[0m_propagate_features\u001B[0m\u001B[1;33m(\u001B[0m\u001B[0mself\u001B[0m\u001B[1;33m,\u001B[0m \u001B[0mtask\u001B[0m\u001B[1;33m)\u001B[0m\u001B[1;33m:\u001B[0m\u001B[1;33m\u001B[0m\u001B[1;33m\u001B[0m\u001B[0m\n",
      "\u001B[1;32mC:\\ProgramData\\Anaconda3\\lib\\site-packages\\mlens\\parallel\\backend.py\u001B[0m in \u001B[0;36m_propagate_features\u001B[1;34m(self, task)\u001B[0m\n\u001B[0;32m    752\u001B[0m         \u001B[1;32mif\u001B[0m \u001B[1;32mnot\u001B[0m \u001B[0missparse\u001B[0m\u001B[1;33m(\u001B[0m\u001B[0mp_in\u001B[0m\u001B[1;33m)\u001B[0m\u001B[1;33m:\u001B[0m\u001B[1;33m\u001B[0m\u001B[1;33m\u001B[0m\u001B[0m\n\u001B[0;32m    753\u001B[0m             \u001B[1;31m# Simple item setting\u001B[0m\u001B[1;33m\u001B[0m\u001B[1;33m\u001B[0m\u001B[1;33m\u001B[0m\u001B[0m\n\u001B[1;32m--> 754\u001B[1;33m             \u001B[0mp_out\u001B[0m\u001B[1;33m[\u001B[0m\u001B[1;33m:\u001B[0m\u001B[1;33m,\u001B[0m \u001B[1;33m:\u001B[0m\u001B[0mtask\u001B[0m\u001B[1;33m.\u001B[0m\u001B[0mn_feature_prop\u001B[0m\u001B[1;33m]\u001B[0m \u001B[1;33m=\u001B[0m \u001B[0mp_in\u001B[0m\u001B[1;33m[\u001B[0m\u001B[0mr\u001B[0m\u001B[1;33m:\u001B[0m\u001B[1;33m,\u001B[0m \u001B[0mtask\u001B[0m\u001B[1;33m.\u001B[0m\u001B[0mpropagate_features\u001B[0m\u001B[1;33m]\u001B[0m\u001B[1;33m\u001B[0m\u001B[1;33m\u001B[0m\u001B[0m\n\u001B[0m\u001B[0;32m    755\u001B[0m         \u001B[1;32melse\u001B[0m\u001B[1;33m:\u001B[0m\u001B[1;33m\u001B[0m\u001B[1;33m\u001B[0m\u001B[0m\n\u001B[0;32m    756\u001B[0m             \u001B[1;31m# Need to populate propagated features using scipy sparse hstack\u001B[0m\u001B[1;33m\u001B[0m\u001B[1;33m\u001B[0m\u001B[1;33m\u001B[0m\u001B[0m\n",
      "\u001B[1;32mC:\\ProgramData\\Anaconda3\\lib\\site-packages\\pandas\\core\\frame.py\u001B[0m in \u001B[0;36m__getitem__\u001B[1;34m(self, key)\u001B[0m\n\u001B[0;32m   2798\u001B[0m             \u001B[1;32mif\u001B[0m \u001B[0mself\u001B[0m\u001B[1;33m.\u001B[0m\u001B[0mcolumns\u001B[0m\u001B[1;33m.\u001B[0m\u001B[0mnlevels\u001B[0m \u001B[1;33m>\u001B[0m \u001B[1;36m1\u001B[0m\u001B[1;33m:\u001B[0m\u001B[1;33m\u001B[0m\u001B[1;33m\u001B[0m\u001B[0m\n\u001B[0;32m   2799\u001B[0m                 \u001B[1;32mreturn\u001B[0m \u001B[0mself\u001B[0m\u001B[1;33m.\u001B[0m\u001B[0m_getitem_multilevel\u001B[0m\u001B[1;33m(\u001B[0m\u001B[0mkey\u001B[0m\u001B[1;33m)\u001B[0m\u001B[1;33m\u001B[0m\u001B[1;33m\u001B[0m\u001B[0m\n\u001B[1;32m-> 2800\u001B[1;33m             \u001B[0mindexer\u001B[0m \u001B[1;33m=\u001B[0m \u001B[0mself\u001B[0m\u001B[1;33m.\u001B[0m\u001B[0mcolumns\u001B[0m\u001B[1;33m.\u001B[0m\u001B[0mget_loc\u001B[0m\u001B[1;33m(\u001B[0m\u001B[0mkey\u001B[0m\u001B[1;33m)\u001B[0m\u001B[1;33m\u001B[0m\u001B[1;33m\u001B[0m\u001B[0m\n\u001B[0m\u001B[0;32m   2801\u001B[0m             \u001B[1;32mif\u001B[0m \u001B[0mis_integer\u001B[0m\u001B[1;33m(\u001B[0m\u001B[0mindexer\u001B[0m\u001B[1;33m)\u001B[0m\u001B[1;33m:\u001B[0m\u001B[1;33m\u001B[0m\u001B[1;33m\u001B[0m\u001B[0m\n\u001B[0;32m   2802\u001B[0m                 \u001B[0mindexer\u001B[0m \u001B[1;33m=\u001B[0m \u001B[1;33m[\u001B[0m\u001B[0mindexer\u001B[0m\u001B[1;33m]\u001B[0m\u001B[1;33m\u001B[0m\u001B[1;33m\u001B[0m\u001B[0m\n",
      "\u001B[1;32mC:\\ProgramData\\Anaconda3\\lib\\site-packages\\pandas\\core\\indexes\\base.py\u001B[0m in \u001B[0;36mget_loc\u001B[1;34m(self, key, method, tolerance)\u001B[0m\n\u001B[0;32m   2644\u001B[0m                 )\n\u001B[0;32m   2645\u001B[0m             \u001B[1;32mtry\u001B[0m\u001B[1;33m:\u001B[0m\u001B[1;33m\u001B[0m\u001B[1;33m\u001B[0m\u001B[0m\n\u001B[1;32m-> 2646\u001B[1;33m                 \u001B[1;32mreturn\u001B[0m \u001B[0mself\u001B[0m\u001B[1;33m.\u001B[0m\u001B[0m_engine\u001B[0m\u001B[1;33m.\u001B[0m\u001B[0mget_loc\u001B[0m\u001B[1;33m(\u001B[0m\u001B[0mkey\u001B[0m\u001B[1;33m)\u001B[0m\u001B[1;33m\u001B[0m\u001B[1;33m\u001B[0m\u001B[0m\n\u001B[0m\u001B[0;32m   2647\u001B[0m             \u001B[1;32mexcept\u001B[0m \u001B[0mKeyError\u001B[0m\u001B[1;33m:\u001B[0m\u001B[1;33m\u001B[0m\u001B[1;33m\u001B[0m\u001B[0m\n\u001B[0;32m   2648\u001B[0m                 \u001B[1;32mreturn\u001B[0m \u001B[0mself\u001B[0m\u001B[1;33m.\u001B[0m\u001B[0m_engine\u001B[0m\u001B[1;33m.\u001B[0m\u001B[0mget_loc\u001B[0m\u001B[1;33m(\u001B[0m\u001B[0mself\u001B[0m\u001B[1;33m.\u001B[0m\u001B[0m_maybe_cast_indexer\u001B[0m\u001B[1;33m(\u001B[0m\u001B[0mkey\u001B[0m\u001B[1;33m)\u001B[0m\u001B[1;33m)\u001B[0m\u001B[1;33m\u001B[0m\u001B[1;33m\u001B[0m\u001B[0m\n",
      "\u001B[1;32mpandas\\_libs\\index.pyx\u001B[0m in \u001B[0;36mpandas._libs.index.IndexEngine.get_loc\u001B[1;34m()\u001B[0m\n",
      "\u001B[1;32mpandas\\_libs\\index.pyx\u001B[0m in \u001B[0;36mpandas._libs.index.IndexEngine.get_loc\u001B[1;34m()\u001B[0m\n",
      "\u001B[1;31mTypeError\u001B[0m: '(slice(0, None, None), [0, 1, 2, 3, 4, 5])' is an invalid key"
     ]
    }
   ],
   "source": [
    "from mlens.ensemble import SuperLearner\n",
    "from mlens.ensemble import BlendEnsemble\n",
    "from sklearn.metrics import accuracy_score,classification_report,roc_auc_score,f1_score\n",
    "\n",
    "def build_ensemble(proba, **kwargs):\n",
    "    \"\"\"Return an ensemble.\"\"\"\n",
    "    estimators = [RandomForestClassifier(random_state=22),MLPClassifier(hidden_layer_sizes=(100,100,100), max_iter=50, alpha=0.0001,\n",
    "                                                                        solver='adam', verbose=0,  random_state=21,tol=0.000001),\n",
    "                  XGBClassifier(random_state = 44, nthread = 4),\n",
    "                 KNeighborsClassifier(n_neighbors=3, n_jobs = -1),\n",
    "                  LogisticRegression(random_state = 44,n_jobs = -1)]\n",
    "    ensemble = SuperLearner(**kwargs,n_jobs = -1, scorer=f1_score,random_state=22, verbose=2)\n",
    "    ensemble.add(estimators,propagate_features = [0,1,2,3,4,5]) # Specify 'proba' here\n",
    "    ensemble.add_meta(XGBClassifier(random_state = 44, nthread = 4))\n",
    "    return ensemble\n",
    "ensemble = build_ensemble(proba=True)\n",
    "ensemble.fit(UserF[:100000], dfy[:100000].values.ravel())\n",
    "preds = ensemble.predict(UserF[100000:])\n",
    "print(\"\\nAccuracy:\\n%r\" % accuracy_score(preds, dfy[100000:]))\n",
    "print(classification_report(preds, dfy[100000:]))"
   ]
  },
  {
   "cell_type": "code",
   "execution_count": 47,
   "metadata": {
    "pycharm": {
     "name": "#%%\n"
    }
   },
   "outputs": [
    {
     "name": "stdout",
     "output_type": "stream",
     "text": [
      "              precision    recall  f1-score   support\n",
      "\n",
      "         0.0       0.76      0.67      0.71     35501\n",
      "         1.0       0.56      0.66      0.61     22373\n",
      "\n",
      "    accuracy                           0.67     57874\n",
      "   macro avg       0.66      0.67      0.66     57874\n",
      "weighted avg       0.68      0.67      0.67     57874\n",
      "\n"
     ]
    }
   ],
   "source": [
    "print(classification_report(preds, dfy[100000:]))"
   ]
  },
  {
   "cell_type": "code",
   "execution_count": 59,
   "metadata": {
    "pycharm": {
     "name": "#%%\n"
    }
   },
   "outputs": [
    {
     "data": {
      "text/plain": [
       "                                   score-m  score-s    ft-m   ft-s   pt-m  pt-s\n",
       "layer-1  kneighborsclassifier         0.62     0.00    1.92   1.13  33.47  0.66\n",
       "layer-1  logisticregression           0.66     0.03   43.80  20.24   0.02  0.01\n",
       "layer-1  mlpclassifier                0.68     0.00  122.19  16.42   0.86  0.01\n",
       "layer-1  randomforestclassifier       0.68     0.00   13.94   1.77   2.39  0.08\n",
       "layer-1  xgbclassifier                0.70     0.01    7.49   3.81   0.10  0.02"
      ]
     },
     "execution_count": 59,
     "metadata": {},
     "output_type": "execute_result"
    }
   ],
   "source": [
    "import pandas as pd\n",
    "ensemble.data"
   ]
  },
  {
   "cell_type": "code",
   "execution_count": 47,
   "metadata": {
    "pycharm": {
     "name": "#%%\n"
    }
   },
   "outputs": [
    {
     "name": "stdout",
     "output_type": "stream",
     "text": [
      "Prediction score: 0.000\n"
     ]
    }
   ],
   "source": [
    "print(\"Prediction score: %.3f\" % f1_score(preds, dfy[100000:]))"
   ]
  },
  {
   "cell_type": "code",
   "execution_count": 3,
   "metadata": {
    "pycharm": {
     "name": "#%%\n"
    }
   },
   "outputs": [
    {
     "name": "stdout",
     "output_type": "stream",
     "text": [
      "Accuracy: 61.84 (+/- 2.71)\n"
     ]
    }
   ],
   "source": [
    "# Checking MLP half on w2v CBOW\n",
    "clf = MLPClassifier(hidden_layer_sizes=(100,100,100), max_iter=50, alpha=0.0001,\n",
    "                     solver='adam', verbose=1,  random_state=21,tol=0.000001)\n",
    "scores = cross_val_score(clf, dfx, dfy.values.ravel(), cv=5,scoring='accuracy',n_jobs=-1)\n",
    "print(\"Accuracy: %0.2f (+/- %0.2f)\" % (scores.mean()*100, scores.std()*100))"
   ]
  },
  {
   "cell_type": "code",
   "execution_count": 4,
   "metadata": {
    "pycharm": {
     "name": "#%%\n"
    }
   },
   "outputs": [
    {
     "name": "stdout",
     "output_type": "stream",
     "text": [
      "Accuracy: 58.91 (+/- 2.02)\n"
     ]
    }
   ],
   "source": [
    "# Checking MLP full on w2v CBOW\n",
    "clf = MLPClassifier(hidden_layer_sizes=(100,100,100), max_iter=500, alpha=0.0001,\n",
    "                     solver='adam', verbose=1,  random_state=21,tol=0.000001)\n",
    "scores = cross_val_score(clf, dfx, dfy.values.ravel(), cv=5,scoring='accuracy',n_jobs=-1)\n",
    "print(\"Accuracy: %0.2f (+/- %0.2f)\" % (scores.mean()*100, scores.std()*100))"
   ]
  },
  {
   "cell_type": "code",
   "execution_count": 1,
   "metadata": {
    "pycharm": {
     "name": "#%%\n"
    }
   },
   "outputs": [
    {
     "data": {
      "text/plain": [
       "Index(['Unnamed: 0', 'user_id', 'prod_id', 'reviews', 'rating', 'label',\n",
       "       'avg_Urating', 'avg_Prating', 'Var_Urating', 'Var_Prating', 'UCcounts',\n",
       "       'PCcounts', '#ofwords', 'Uavg#word', 'Uvar#word', 'Pavg#word',\n",
       "       'Pvar#word', 'day_Urating', 'day_Prating', '#ofCharacter', 'Uppercase',\n",
       "       'Lowercase', 'count_punct', 'Exclaim', 'subjectivity', 'positiveSent',\n",
       "       'negativeSent', 'le_d', 'ld', 'anger', 'anticipation', 'disgust',\n",
       "       'fear', 'joy', 'sadness', 'surprise', 'trust', 'Entropy', 'similarity',\n",
       "       'Ext', 'singleton', 'ratio_LCAPS', 'date', 'date_entropy'],\n",
       "      dtype='object')"
      ]
     },
     "execution_count": 1,
     "metadata": {},
     "output_type": "execute_result"
    }
   ],
   "source": [
    "import pandas as pd\n",
    "df = pd.read_csv(\"D:\\Yelp\\YelpZip\\YZProcessed.csv\")\n",
    "'''dfT = pd.read_csv(\"D:\\Yelp\\YelpZip\\YZProcessed.csv\")\n",
    "dfWc = pd.read_csv(\"D:\\Yelp\\YelpZip\\YZProcessed.csv\")\n",
    "dfWs = pd.read_csv(\"D:\\Yelp\\YelpZip\\YZProcessed.csv\")\n",
    "dfG = pd.read_csv(\"D:\\Yelp\\YelpZip\\YZProcessed.csv\")'''\n",
    "df.columns"
   ]
  },
  {
   "cell_type": "code",
   "execution_count": 14,
   "metadata": {
    "pycharm": {
     "name": "#%%\n"
    }
   },
   "outputs": [],
   "source": [
    "UserF = df[['avg_Urating','Var_Urating','Uavg#word','UCcounts','day_Urating','Uvar#word']].copy()\n",
    "ProdF = df[['avg_Prating','Var_Prating','Pavg#word','PCcounts','day_Prating','Pvar#word']].copy()\n",
    "RevwF = df[['#ofwords', '#ofCharacter', 'Uppercase', 'Lowercase','count_punct', 'Exclaim', 'subjectivity', 'positiveSent',\n",
    "           'negativeSent', 'le_d', 'ld', 'anger', 'anticipation', 'disgust','fear', 'joy', 'sadness', 'surprise', 'trust']].copy\n",
    "dfy = df[['label']].copy()"
   ]
  },
  {
   "cell_type": "code",
   "execution_count": 36,
   "metadata": {
    "pycharm": {
     "name": "#%%\n"
    }
   },
   "outputs": [],
   "source": [
    "from numpy import mean\n",
    "from numpy import std\n",
    "import time\n",
    "import pandas as pd\n",
    "from sklearn.datasets import make_classification\n",
    "from sklearn.model_selection import cross_validate\n",
    "from sklearn.model_selection import RepeatedStratifiedKFold\n",
    "from sklearn.neighbors import KNeighborsClassifier\n",
    "from sklearn.ensemble import StackingClassifier\n",
    "from matplotlib import pyplot\n",
    "from mlxtend.classifier import EnsembleVoteClassifier\n",
    "from xgboost import XGBClassifier\n",
    "from sklearn.linear_model import LogisticRegression\n",
    "from sklearn.naive_bayes import GaussianNB\n",
    "from sklearn.ensemble import RandomForestClassifier\n",
    "from sklearn.svm import LinearSVC\n",
    "from sklearn.model_selection import cross_val_score\n",
    "from sklearn.neural_network import MLPClassifier\n",
    "scoring = {'Acc': 'accuracy',\n",
    "           'AP': 'average_precision',\n",
    "           'recall': 'recall',\n",
    "           'AUC': 'roc_auc',\n",
    "           'F1': 'f1',\n",
    "           'log loss': 'neg_log_loss'} \n",
    "clf1 = XGBClassifier(random_state = 44, nthread = 4)\n",
    "clf2 = MLPClassifier(hidden_layer_sizes=(100,100,100), max_iter=50, alpha=0.0001,\n",
    "                     solver='adam', verbose=1,  random_state=21,tol=0.000001)\n",
    "clf3 = KNeighborsClassifier(n_neighbors=3, n_jobs = -1)\n",
    "clf4 = RandomForestClassifier(random_state = 44,n_jobs = -1)\n",
    "clf5 = LogisticRegression(random_state = 44,n_jobs = -1)\n",
    "estimators = [\n",
    "    ('xgb', XGBClassifier(random_state = 44, nthread = 4)),\n",
    "    ('MLP', MLPClassifier(hidden_layer_sizes=(100,100,100), max_iter=50, alpha=0.0001,\n",
    "                          solver='adam', verbose=1,  random_state=21,tol=0.000001)),\n",
    "    ('knn3', KNeighborsClassifier(n_neighbors=3, n_jobs = -1)),\n",
    "    ('rf', RandomForestClassifier(random_state = 44,n_jobs = -1)),\n",
    "    ('lr', LogisticRegression(random_state = 44,n_jobs = -1))]\n",
    "eclf = StackingClassifier(estimators=estimators, final_estimator=XGBClassifier(random_state = 44, nthread = 4), n_jobs = -1, passthrough=True)\n",
    "labels = ['XGBoost','MLP Classifier', 'KNN', 'Random Forest', 'Logistic Regression', 'Stacking']"
   ]
  },
  {
   "cell_type": "code",
   "execution_count": 41,
   "metadata": {
    "pycharm": {
     "name": "#%%\n"
    }
   },
   "outputs": [
    {
     "name": "stdout",
     "output_type": "stream",
     "text": [
      "XGBoost\n",
      "MLP Classifier\n",
      "KNN\n",
      "Random Forest\n",
      "Logistic Regression\n",
      "Stacking\n"
     ]
    },
    {
     "data": {
      "text/html": [
       "<div>\n",
       "<style scoped>\n",
       "    .dataframe tbody tr th:only-of-type {\n",
       "        vertical-align: middle;\n",
       "    }\n",
       "\n",
       "    .dataframe tbody tr th {\n",
       "        vertical-align: top;\n",
       "    }\n",
       "\n",
       "    .dataframe thead th {\n",
       "        text-align: right;\n",
       "    }\n",
       "</style>\n",
       "<table border=\"1\" class=\"dataframe\">\n",
       "  <thead>\n",
       "    <tr style=\"text-align: right;\">\n",
       "      <th></th>\n",
       "      <th>XGBoost</th>\n",
       "      <th>MLP Classifier</th>\n",
       "      <th>KNN</th>\n",
       "      <th>Random Forest</th>\n",
       "      <th>Logistic Regression</th>\n",
       "      <th>Stacking</th>\n",
       "    </tr>\n",
       "  </thead>\n",
       "  <tbody>\n",
       "    <tr>\n",
       "      <th>fit_time</th>\n",
       "      <td>4.343978</td>\n",
       "      <td>246.498174</td>\n",
       "      <td>42.233279</td>\n",
       "      <td>17.521672</td>\n",
       "      <td>0.811225</td>\n",
       "      <td>1161.191427</td>\n",
       "    </tr>\n",
       "    <tr>\n",
       "      <th>score_time</th>\n",
       "      <td>0.189892</td>\n",
       "      <td>2.091768</td>\n",
       "      <td>4.445909</td>\n",
       "      <td>4.313607</td>\n",
       "      <td>0.114013</td>\n",
       "      <td>2.842324</td>\n",
       "    </tr>\n",
       "    <tr>\n",
       "      <th>test_Acc</th>\n",
       "      <td>0.674088</td>\n",
       "      <td>0.654104</td>\n",
       "      <td>0.591256</td>\n",
       "      <td>0.687060</td>\n",
       "      <td>0.514689</td>\n",
       "      <td>0.695358</td>\n",
       "    </tr>\n",
       "    <tr>\n",
       "      <th>train_Acc</th>\n",
       "      <td>0.678418</td>\n",
       "      <td>0.657662</td>\n",
       "      <td>0.692123</td>\n",
       "      <td>0.777603</td>\n",
       "      <td>0.518622</td>\n",
       "      <td>0.760966</td>\n",
       "    </tr>\n",
       "    <tr>\n",
       "      <th>test_AP</th>\n",
       "      <td>0.760487</td>\n",
       "      <td>0.706923</td>\n",
       "      <td>0.595017</td>\n",
       "      <td>0.778012</td>\n",
       "      <td>0.595029</td>\n",
       "      <td>0.793428</td>\n",
       "    </tr>\n",
       "    <tr>\n",
       "      <th>train_AP</th>\n",
       "      <td>0.764450</td>\n",
       "      <td>0.708793</td>\n",
       "      <td>0.708138</td>\n",
       "      <td>0.897057</td>\n",
       "      <td>0.595064</td>\n",
       "      <td>0.878433</td>\n",
       "    </tr>\n",
       "    <tr>\n",
       "      <th>test_recall</th>\n",
       "      <td>0.622167</td>\n",
       "      <td>0.613564</td>\n",
       "      <td>0.622775</td>\n",
       "      <td>0.612602</td>\n",
       "      <td>0.906157</td>\n",
       "      <td>0.600453</td>\n",
       "    </tr>\n",
       "    <tr>\n",
       "      <th>train_recall</th>\n",
       "      <td>0.625410</td>\n",
       "      <td>0.614535</td>\n",
       "      <td>0.711010</td>\n",
       "      <td>0.697477</td>\n",
       "      <td>0.909303</td>\n",
       "      <td>0.651630</td>\n",
       "    </tr>\n",
       "    <tr>\n",
       "      <th>test_AUC</th>\n",
       "      <td>0.748927</td>\n",
       "      <td>0.715933</td>\n",
       "      <td>0.629508</td>\n",
       "      <td>0.761402</td>\n",
       "      <td>0.629130</td>\n",
       "      <td>0.773383</td>\n",
       "    </tr>\n",
       "    <tr>\n",
       "      <th>train_AUC</th>\n",
       "      <td>0.753282</td>\n",
       "      <td>0.719211</td>\n",
       "      <td>0.747975</td>\n",
       "      <td>0.881697</td>\n",
       "      <td>0.630919</td>\n",
       "      <td>0.859040</td>\n",
       "    </tr>\n",
       "    <tr>\n",
       "      <th>test_F1</th>\n",
       "      <td>0.655821</td>\n",
       "      <td>0.638226</td>\n",
       "      <td>0.603653</td>\n",
       "      <td>0.661443</td>\n",
       "      <td>0.644221</td>\n",
       "      <td>0.662861</td>\n",
       "    </tr>\n",
       "    <tr>\n",
       "      <th>train_F1</th>\n",
       "      <td>0.660381</td>\n",
       "      <td>0.641673</td>\n",
       "      <td>0.697782</td>\n",
       "      <td>0.758141</td>\n",
       "      <td>0.647979</td>\n",
       "      <td>0.731590</td>\n",
       "    </tr>\n",
       "    <tr>\n",
       "      <th>test_log loss</th>\n",
       "      <td>-0.582801</td>\n",
       "      <td>-0.615244</td>\n",
       "      <td>-4.700903</td>\n",
       "      <td>-0.635995</td>\n",
       "      <td>-0.686576</td>\n",
       "      <td>-0.556886</td>\n",
       "    </tr>\n",
       "    <tr>\n",
       "      <th>train_log loss</th>\n",
       "      <td>-0.578807</td>\n",
       "      <td>-0.612380</td>\n",
       "      <td>-2.813221</td>\n",
       "      <td>-0.410927</td>\n",
       "      <td>-0.685296</td>\n",
       "      <td>-0.466297</td>\n",
       "    </tr>\n",
       "  </tbody>\n",
       "</table>\n",
       "</div>"
      ],
      "text/plain": [
       "                 XGBoost  MLP Classifier        KNN  Random Forest  \\\n",
       "fit_time        4.343978      246.498174  42.233279      17.521672   \n",
       "score_time      0.189892        2.091768   4.445909       4.313607   \n",
       "test_Acc        0.674088        0.654104   0.591256       0.687060   \n",
       "train_Acc       0.678418        0.657662   0.692123       0.777603   \n",
       "test_AP         0.760487        0.706923   0.595017       0.778012   \n",
       "train_AP        0.764450        0.708793   0.708138       0.897057   \n",
       "test_recall     0.622167        0.613564   0.622775       0.612602   \n",
       "train_recall    0.625410        0.614535   0.711010       0.697477   \n",
       "test_AUC        0.748927        0.715933   0.629508       0.761402   \n",
       "train_AUC       0.753282        0.719211   0.747975       0.881697   \n",
       "test_F1         0.655821        0.638226   0.603653       0.661443   \n",
       "train_F1        0.660381        0.641673   0.697782       0.758141   \n",
       "test_log loss  -0.582801       -0.615244  -4.700903      -0.635995   \n",
       "train_log loss -0.578807       -0.612380  -2.813221      -0.410927   \n",
       "\n",
       "                Logistic Regression     Stacking  \n",
       "fit_time                   0.811225  1161.191427  \n",
       "score_time                 0.114013     2.842324  \n",
       "test_Acc                   0.514689     0.695358  \n",
       "train_Acc                  0.518622     0.760966  \n",
       "test_AP                    0.595029     0.793428  \n",
       "train_AP                   0.595064     0.878433  \n",
       "test_recall                0.906157     0.600453  \n",
       "train_recall               0.909303     0.651630  \n",
       "test_AUC                   0.629130     0.773383  \n",
       "train_AUC                  0.630919     0.859040  \n",
       "test_F1                    0.644221     0.662861  \n",
       "train_F1                   0.647979     0.731590  \n",
       "test_log loss             -0.686576    -0.556886  \n",
       "train_log loss            -0.685296    -0.466297  "
      ]
     },
     "execution_count": 41,
     "metadata": {},
     "output_type": "execute_result"
    }
   ],
   "source": [
    "\n",
    "df = pd.DataFrame()\n",
    "for clf, label in zip([clf1, clf2, clf3,clf4,clf5,eclf], labels):\n",
    "    scores = cross_validate(clf, UserF, dfy.values.ravel(), cv=5,scoring=scoring,n_jobs=-1,return_train_score=True)\n",
    "    print(label)\n",
    "    t = pd.DataFrame.from_dict(scores)\n",
    "    df = pd.concat([df,t.mean()],axis =1)\n",
    "    df.rename(columns={0: label}, inplace=True)\n",
    "    \n",
    "df"
   ]
  },
  {
   "cell_type": "code",
   "execution_count": 52,
   "metadata": {
    "pycharm": {
     "name": "#%%\n"
    }
   },
   "outputs": [
    {
     "data": {
      "text/plain": [
       "1    78937\n",
       "0    78937\n",
       "Name: label, dtype: int64"
      ]
     },
     "execution_count": 52,
     "metadata": {},
     "output_type": "execute_result"
    }
   ],
   "source": [
    "dfy['label'].value_counts()"
   ]
  },
  {
   "cell_type": "code",
   "execution_count": 61,
   "metadata": {
    "pycharm": {
     "name": "#%%\n"
    }
   },
   "outputs": [
    {
     "data": {
      "text/plain": [
       "Index(['user_id', 'prod_id', 'date', 'reviews', 'rating', 'label',\n",
       "       'avg_Urating', 'avg_Prating', 'UCcounts', 'PCcounts', 'day_rating',\n",
       "       'day_Prating', '#ofCharacter', '#ofwords', 'Uavg#word', 'Pavg#word',\n",
       "       'count_punct', 'positiveSent', 'negativeSent', 'Uppercase',\n",
       "       'Lowercase'],\n",
       "      dtype='object')"
      ]
     },
     "execution_count": 61,
     "metadata": {},
     "output_type": "execute_result"
    }
   ],
   "source": [
    "dfx = pd.read_csv(\"X_ReSampled.csv\")\n",
    "dfx.columns"
   ]
  },
  {
   "cell_type": "code",
   "execution_count": 69,
   "metadata": {
    "pycharm": {
     "name": "#%%\n"
    }
   },
   "outputs": [],
   "source": [
    "from sklearn.model_selection import train_test_split\n",
    "X_train, X_test, y_train, y_test = train_test_split(UserF, dfy, test_size=0.30, random_state=42, shuffle = True)"
   ]
  },
  {
   "cell_type": "code",
   "execution_count": 95,
   "metadata": {
    "pycharm": {
     "name": "#%%\n"
    }
   },
   "outputs": [
    {
     "name": "stderr",
     "output_type": "stream",
     "text": [
      "C:\\ProgramData\\Anaconda3\\lib\\site-packages\\sklearn\\model_selection\\_split.py:296: FutureWarning: Setting a random_state has no effect since shuffle is False. This will raise an error in 0.24. You should leave random_state to its default (None), or set shuffle=True.\n",
      "  FutureWarning\n"
     ]
    },
    {
     "name": "stdout",
     "output_type": "stream",
     "text": [
      "XGBoost\n",
      "MLP Classifier\n",
      "KNN\n",
      "Random Forest\n",
      "Logistic Regression\n",
      "Stacking\n"
     ]
    },
    {
     "data": {
      "text/html": [
       "<div>\n",
       "<style scoped>\n",
       "    .dataframe tbody tr th:only-of-type {\n",
       "        vertical-align: middle;\n",
       "    }\n",
       "\n",
       "    .dataframe tbody tr th {\n",
       "        vertical-align: top;\n",
       "    }\n",
       "\n",
       "    .dataframe thead th {\n",
       "        text-align: right;\n",
       "    }\n",
       "</style>\n",
       "<table border=\"1\" class=\"dataframe\">\n",
       "  <thead>\n",
       "    <tr style=\"text-align: right;\">\n",
       "      <th></th>\n",
       "      <th>XGBoost</th>\n",
       "      <th>MLP Classifier</th>\n",
       "      <th>KNN</th>\n",
       "      <th>Random Forest</th>\n",
       "      <th>Logistic Regression</th>\n",
       "      <th>Stacking</th>\n",
       "    </tr>\n",
       "  </thead>\n",
       "  <tbody>\n",
       "    <tr>\n",
       "      <th>fit_time</th>\n",
       "      <td>4.771560</td>\n",
       "      <td>134.199381</td>\n",
       "      <td>17.479894</td>\n",
       "      <td>16.019763</td>\n",
       "      <td>0.876389</td>\n",
       "      <td>764.957398</td>\n",
       "    </tr>\n",
       "    <tr>\n",
       "      <th>score_time</th>\n",
       "      <td>0.252604</td>\n",
       "      <td>1.340401</td>\n",
       "      <td>3.268295</td>\n",
       "      <td>2.158774</td>\n",
       "      <td>0.094799</td>\n",
       "      <td>3.302043</td>\n",
       "    </tr>\n",
       "    <tr>\n",
       "      <th>test_Acc</th>\n",
       "      <td>0.677752</td>\n",
       "      <td>0.648677</td>\n",
       "      <td>0.606573</td>\n",
       "      <td>0.695478</td>\n",
       "      <td>0.539910</td>\n",
       "      <td>0.701803</td>\n",
       "    </tr>\n",
       "    <tr>\n",
       "      <th>train_Acc</th>\n",
       "      <td>0.678928</td>\n",
       "      <td>0.650372</td>\n",
       "      <td>0.688178</td>\n",
       "      <td>0.781719</td>\n",
       "      <td>0.541885</td>\n",
       "      <td>0.775244</td>\n",
       "    </tr>\n",
       "    <tr>\n",
       "      <th>test_AP</th>\n",
       "      <td>0.763245</td>\n",
       "      <td>0.686340</td>\n",
       "      <td>0.607463</td>\n",
       "      <td>0.784178</td>\n",
       "      <td>0.603930</td>\n",
       "      <td>0.799907</td>\n",
       "    </tr>\n",
       "    <tr>\n",
       "      <th>train_AP</th>\n",
       "      <td>0.765527</td>\n",
       "      <td>0.687276</td>\n",
       "      <td>0.711299</td>\n",
       "      <td>0.899388</td>\n",
       "      <td>0.604012</td>\n",
       "      <td>0.892119</td>\n",
       "    </tr>\n",
       "    <tr>\n",
       "      <th>test_recall</th>\n",
       "      <td>0.620283</td>\n",
       "      <td>0.610406</td>\n",
       "      <td>0.604043</td>\n",
       "      <td>0.620639</td>\n",
       "      <td>0.831678</td>\n",
       "      <td>0.621288</td>\n",
       "    </tr>\n",
       "    <tr>\n",
       "      <th>train_recall</th>\n",
       "      <td>0.621411</td>\n",
       "      <td>0.611838</td>\n",
       "      <td>0.680139</td>\n",
       "      <td>0.699827</td>\n",
       "      <td>0.832002</td>\n",
       "      <td>0.685098</td>\n",
       "    </tr>\n",
       "    <tr>\n",
       "      <th>test_AUC</th>\n",
       "      <td>0.751763</td>\n",
       "      <td>0.705587</td>\n",
       "      <td>0.642835</td>\n",
       "      <td>0.774268</td>\n",
       "      <td>0.639178</td>\n",
       "      <td>0.785119</td>\n",
       "    </tr>\n",
       "    <tr>\n",
       "      <th>train_AUC</th>\n",
       "      <td>0.753926</td>\n",
       "      <td>0.706304</td>\n",
       "      <td>0.745296</td>\n",
       "      <td>0.884612</td>\n",
       "      <td>0.639382</td>\n",
       "      <td>0.875544</td>\n",
       "    </tr>\n",
       "    <tr>\n",
       "      <th>test_F1</th>\n",
       "      <td>0.657823</td>\n",
       "      <td>0.633698</td>\n",
       "      <td>0.605292</td>\n",
       "      <td>0.670555</td>\n",
       "      <td>0.636022</td>\n",
       "      <td>0.675427</td>\n",
       "    </tr>\n",
       "    <tr>\n",
       "      <th>train_F1</th>\n",
       "      <td>0.659076</td>\n",
       "      <td>0.635301</td>\n",
       "      <td>0.685406</td>\n",
       "      <td>0.762043</td>\n",
       "      <td>0.637243</td>\n",
       "      <td>0.752761</td>\n",
       "    </tr>\n",
       "    <tr>\n",
       "      <th>test_log loss</th>\n",
       "      <td>-0.579866</td>\n",
       "      <td>-0.622015</td>\n",
       "      <td>-4.136639</td>\n",
       "      <td>-0.627322</td>\n",
       "      <td>-0.678310</td>\n",
       "      <td>-0.544776</td>\n",
       "    </tr>\n",
       "    <tr>\n",
       "      <th>train_log loss</th>\n",
       "      <td>-0.577779</td>\n",
       "      <td>-0.620937</td>\n",
       "      <td>-2.505275</td>\n",
       "      <td>-0.412672</td>\n",
       "      <td>-0.677673</td>\n",
       "      <td>-0.447161</td>\n",
       "    </tr>\n",
       "  </tbody>\n",
       "</table>\n",
       "</div>"
      ],
      "text/plain": [
       "                 XGBoost  MLP Classifier        KNN  Random Forest  \\\n",
       "fit_time        4.771560      134.199381  17.479894      16.019763   \n",
       "score_time      0.252604        1.340401   3.268295       2.158774   \n",
       "test_Acc        0.677752        0.648677   0.606573       0.695478   \n",
       "train_Acc       0.678928        0.650372   0.688178       0.781719   \n",
       "test_AP         0.763245        0.686340   0.607463       0.784178   \n",
       "train_AP        0.765527        0.687276   0.711299       0.899388   \n",
       "test_recall     0.620283        0.610406   0.604043       0.620639   \n",
       "train_recall    0.621411        0.611838   0.680139       0.699827   \n",
       "test_AUC        0.751763        0.705587   0.642835       0.774268   \n",
       "train_AUC       0.753926        0.706304   0.745296       0.884612   \n",
       "test_F1         0.657823        0.633698   0.605292       0.670555   \n",
       "train_F1        0.659076        0.635301   0.685406       0.762043   \n",
       "test_log loss  -0.579866       -0.622015  -4.136639      -0.627322   \n",
       "train_log loss -0.577779       -0.620937  -2.505275      -0.412672   \n",
       "\n",
       "                Logistic Regression    Stacking  \n",
       "fit_time                   0.876389  764.957398  \n",
       "score_time                 0.094799    3.302043  \n",
       "test_Acc                   0.539910    0.701803  \n",
       "train_Acc                  0.541885    0.775244  \n",
       "test_AP                    0.603930    0.799907  \n",
       "train_AP                   0.604012    0.892119  \n",
       "test_recall                0.831678    0.621288  \n",
       "train_recall               0.832002    0.685098  \n",
       "test_AUC                   0.639178    0.785119  \n",
       "train_AUC                  0.639382    0.875544  \n",
       "test_F1                    0.636022    0.675427  \n",
       "train_F1                   0.637243    0.752761  \n",
       "test_log loss             -0.678310   -0.544776  \n",
       "train_log loss            -0.677673   -0.447161  "
      ]
     },
     "execution_count": 95,
     "metadata": {},
     "output_type": "execute_result"
    }
   ],
   "source": [
    "from sklearn.model_selection import KFold\n",
    "kfold = KFold(n_splits=5, random_state=22)\n",
    "eclf = StackingClassifier(estimators=estimators, final_estimator=XGBClassifier(random_state = 44,n_thread = 4), n_jobs = -1, passthrough=True)\n",
    "labels = ['XGBoost','MLP Classifier', 'KNN', 'Random Forest', 'Logistic Regression', 'Stacking']\n",
    "df = pd.DataFrame()\n",
    "for clf, label in zip([clf1, clf2, clf3,clf4,clf5,eclf], labels):\n",
    "    start = time.time()\n",
    "    scores = cross_validate(clf, X_train, y_train, cv=kfold,scoring=scoring,n_jobs=-1,return_train_score=True)\n",
    "    end = time.time()\n",
    "    print(label)\n",
    "    t = pd.DataFrame.from_dict(scores)\n",
    "    df = pd.concat([df,t.mean()],axis =1)\n",
    "    df.rename(columns={0: label}, inplace=True)\n",
    "    #print(\"[%s], Duration %0.2f\" % (label, end-start))\n",
    "    #print(t.mean())\n",
    "df"
   ]
  },
  {
   "cell_type": "code",
   "execution_count": 97,
   "metadata": {
    "pycharm": {
     "name": "#%%\n"
    }
   },
   "outputs": [
    {
     "data": {
      "text/plain": [
       "(157874, 6)"
      ]
     },
     "execution_count": 97,
     "metadata": {},
     "output_type": "execute_result"
    }
   ],
   "source": [
    "UserF.shape"
   ]
  },
  {
   "cell_type": "code",
   "execution_count": 7,
   "metadata": {
    "pycharm": {
     "name": "#%%\n"
    }
   },
   "outputs": [
    {
     "name": "stdout",
     "output_type": "stream",
     "text": [
      "(73770, 986)\n",
      "(73770, 8)\n"
     ]
    },
    {
     "data": {
      "text/plain": [
       "'df = pd.read_csv(\"D:\\\\Yelp\\\\YelpNYC\\\\YNglv.csv\")\\nprint(df.shape)\\npca = PCA(n_components = 0.80).fit_transform(df)\\nb = pd.DataFrame(pca)\\nprint(b.shape)\\ndf = pd.read_csv(\"D:\\\\Yelp\\\\YelpNYC\\\\YNw2vsg.csv\")\\nprint(df.shape)\\npca = PCA(n_components = 0.80).fit_transform(df)\\nc = pd.DataFrame(pca)\\nprint(c.shape)\\ndf = pd.read_csv(\"D:\\\\Yelp\\\\YelpNYC\\\\YNw2vcbow.csv\")\\nprint(df.shape)\\npca = PCA(n_components = 0.80).fit_transform(df)\\nd = pd.DataFrame(pca)\\nprint(d.shape)'"
      ]
     },
     "execution_count": 7,
     "metadata": {},
     "output_type": "execute_result"
    }
   ],
   "source": [
    "import pandas as pd\n",
    "from sklearn.decomposition import PCA\n",
    "from sklearn.preprocessing import MinMaxScaler\n",
    "dT = pd.read_csv(\"D:\\\\Yelp\\\\YelpNYC\\\\YNtfidf.csv\")\n",
    "print(dT.shape)\n",
    "pca = PCA(n_components = 0.80).fit_transform(df)\n",
    "a = pd.DataFrame(pca)\n",
    "print(a.shape)\n",
    "'''df = pd.read_csv(\"D:\\\\Yelp\\\\YelpNYC\\\\YNglv.csv\")\n",
    "print(df.shape)\n",
    "pca = PCA(n_components = 0.80).fit_transform(df)\n",
    "b = pd.DataFrame(pca)\n",
    "print(b.shape)\n",
    "df = pd.read_csv(\"D:\\\\Yelp\\\\YelpNYC\\\\YNw2vsg.csv\")\n",
    "print(df.shape)\n",
    "pca = PCA(n_components = 0.80).fit_transform(df)\n",
    "c = pd.DataFrame(pca)\n",
    "print(c.shape)\n",
    "df = pd.read_csv(\"D:\\\\Yelp\\\\YelpNYC\\\\YNw2vcbow.csv\")\n",
    "print(df.shape)\n",
    "pca = PCA(n_components = 0.80).fit_transform(df)\n",
    "d = pd.DataFrame(pca)\n",
    "print(d.shape)'''"
   ]
  },
  {
   "cell_type": "code",
   "execution_count": 8,
   "metadata": {
    "pycharm": {
     "name": "#%%\n"
    }
   },
   "outputs": [
    {
     "name": "stdout",
     "output_type": "stream",
     "text": [
      "Accuracy: 47.48 (+/- 2.60)\n"
     ]
    }
   ],
   "source": [
    "import pandas as pd\n",
    "\n",
    "df = pd.read_csv(\"D:\\\\Yelp\\\\YelpNYC\\\\YNtfidf.csv\")\n",
    "dfi = pd.read_csv(\"D:\\\\Yelp\\\\YelpNYC\\\\YNProcessed.csv\")\n",
    "clf = GaussianNB()\n",
    "scores = cross_val_score(clf, a, dfi.label, cv=5,scoring='accuracy',n_jobs=-1)\n",
    "print(\"Accuracy: %0.2f (+/- %0.2f)\" % (scores.mean()*100, scores.std()*100))"
   ]
  },
  {
   "cell_type": "code",
   "execution_count": 9,
   "metadata": {
    "pycharm": {
     "name": "#%%\n"
    }
   },
   "outputs": [],
   "source": [
    "a.to_csv(\"D:\\\\Yelp\\\\YelpNYC\\\\YNtfidf.csv\")"
   ]
  },
  {
   "cell_type": "code",
   "execution_count": 124,
   "metadata": {
    "pycharm": {
     "name": "#%%\n"
    }
   },
   "outputs": [
    {
     "data": {
      "text/plain": [
       "Text(0, 0.5, 'cumulative explained variance')"
      ]
     },
     "execution_count": 124,
     "metadata": {},
     "output_type": "execute_result"
    },
    {
     "data": {
      "image/png": "[encoded data removed]",
      "text/plain": [
       "<Figure size 432x288 with 1 Axes>"
      ]
     },
     "metadata": {},
     "output_type": "display_data"
    }
   ],
   "source": [
    "import matplotlib.pyplot as plt\n",
    "import seaborn as sns; sns.set()\n",
    "plt.plot(np.cumsum(pca.explained_variance_ratio_))\n",
    "plt.xlabel('number of components')\n",
    "plt.ylabel('cumulative explained variance')"
   ]
  },
  {
   "cell_type": "code",
   "execution_count": 112,
   "metadata": {
    "pycharm": {
     "name": "#%%\n"
    }
   },
   "outputs": [
    {
     "data": {
      "text/plain": [
       "Text(0, 0.5, 'cumulative explained variance')"
      ]
     },
     "execution_count": 112,
     "metadata": {},
     "output_type": "execute_result"
    },
    {
     "data": {
      "image/png": "[encoded data removed]",
      "text/plain": [
       "<Figure size 432x288 with 1 Axes>"
      ]
     },
     "metadata": {},
     "output_type": "display_data"
    }
   ],
   "source": [
    "pca = PCA(n_components = 0.85).fit(data_rescaled)\n",
    "plt.plot(np.cumsum(pca.explained_variance_ratio_))\n",
    "plt.xlabel('number of components')\n",
    "plt.ylabel('cumulative explained variance')"
   ]
  },
  {
   "cell_type": "code",
   "execution_count": 17,
   "metadata": {
    "pycharm": {
     "name": "#%%\n"
    }
   },
   "outputs": [
    {
     "name": "stdout",
     "output_type": "stream",
     "text": [
      "XGBoost model accuracy score: 0.7467\n"
     ]
    },
    {
     "data": {
      "image/png": "[encoded data removed]",
      "text/plain": [
       "<Figure size 1440x864 with 1 Axes>"
      ]
     },
     "metadata": {
      "needs_background": "light"
     },
     "output_type": "display_data"
    },
    {
     "data": {
      "text/plain": [
       "<Figure size 2880x1440 with 0 Axes>"
      ]
     },
     "metadata": {},
     "output_type": "display_data"
    }
   ],
   "source": [
    "import numpy as np # linear algebra\n",
    "import pandas as pd # data processing, CSV file I/O (e.g. pd.read_csv)\n",
    "import matplotlib.pyplot as plt  \n",
    "df = pd.read_csv(\"D:\\\\Yelp\\\\YelpNYC\\\\YNProcessed.csv\")\n",
    "y = df['label']\n",
    "X = df[['avg_Urating',\n",
    "       'avg_Prating', 'Var_Urating', 'Var_Prating', 'UCcounts', 'PCcounts',\n",
    "       '#ofwords', 'Uavg#word', 'Uvar#word', 'Pavg#word', 'Pvar#word',\n",
    "       'day_Urating', 'day_Prating', '#ofCharacter', 'Uppercase', 'Lowercase',\n",
    "       'count_punct', 'Exclaim', 'subjectivity', 'positiveSent',\n",
    "       'negativeSent', 'le_d', 'ld', 'anger', 'anticipation', 'disgust',\n",
    "       'fear', 'joy', 'sadness', 'surprise', 'trust', 'Entropy', 'similarity',\n",
    "       'Ext', 'singleton', 'ratio_LCAPS', 'date_entropy']].copy()\n",
    "\n",
    "\n",
    "import xgboost as xgb\n",
    "from sklearn.model_selection import train_test_split\n",
    "from xgboost import XGBClassifier\n",
    "X_train, X_test, y_train, y_test = train_test_split(X, y, test_size = 0.3, random_state = 0)\n",
    "# declare parameters\n",
    "params = {\n",
    "            'objective':'binary:logistic',\n",
    "            'max_depth': 4,\n",
    "            'alpha': 10,\n",
    "            'learning_rate': 1.0,\n",
    "            'n_estimators':100\n",
    "        }         \n",
    "           \n",
    "          \n",
    "# instantiate the classifier \n",
    "xgb_clf = XGBClassifier(**params)\n",
    "\n",
    "\n",
    "# fit the classifier to the training data\n",
    "xgb_clf.fit(X_train, y_train)\n",
    "\n",
    "y_pred = xgb_clf.predict(X_test)\n",
    "from sklearn.metrics import accuracy_score\n",
    "\n",
    "print('XGBoost model accuracy score: {0:0.4f}'. format(accuracy_score(y_test, y_pred)))\n",
    "# define data_dmatrix\n",
    "data_dmatrix = xgb.DMatrix(data=X,label=y)\n",
    "from xgboost import cv\n",
    "\n",
    "params = {\"objective\":\"binary:logistic\",'colsample_bytree': 0.3,'learning_rate': 0.1,\n",
    "                'max_depth': 5, 'alpha': 10}\n",
    "\n",
    "xgb_cv = cv(dtrain=data_dmatrix, params=params, nfold=3,\n",
    "                    num_boost_round=50, early_stopping_rounds=10, metrics=\"auc\", as_pandas=True, seed=123)\n",
    "plt.rcParams[\"figure.figsize\"] = (20,12)\n",
    "xgb.plot_importance(xgb_clf)\n",
    "plt.figure(figsize = (40, 20))\n",
    "plt.show()"
   ]
  },
  {
   "cell_type": "code",
   "execution_count": 12,
   "metadata": {
    "pycharm": {
     "name": "#%%\n"
    }
   },
   "outputs": [
    {
     "data": {
      "image/png": "[encoded data removed]",
      "text/plain": [
       "<Figure size 1440x864 with 1 Axes>"
      ]
     },
     "metadata": {
      "needs_background": "light"
     },
     "output_type": "display_data"
    },
    {
     "data": {
      "text/plain": [
       "<Figure size 3600x2880 with 0 Axes>"
      ]
     },
     "metadata": {},
     "output_type": "display_data"
    },
    {
     "data": {
      "text/plain": [
       "<Figure size 1440x864 with 0 Axes>"
      ]
     },
     "metadata": {},
     "output_type": "display_data"
    }
   ],
   "source": [
    "import matplotlib.pyplot as plt\n",
    "plt.rcParams[\"figure.figsize\"] = (20,12)\n",
    "xgb.plot_importance(xgb_clf)\n",
    "plt.figure(figsize = (50, 40))\n",
    "plt.show()\n",
    "plt.savefig('f.jpeg')"
   ]
  },
  {
   "cell_type": "code",
   "execution_count": 13,
   "metadata": {
    "pycharm": {
     "name": "#%%\n"
    }
   },
   "outputs": [
    {
     "data": {
      "text/plain": [
       "Index(['user_id', 'prod_id', 'rating', 'reviews', 'label', 'avg_Urating',\n",
       "       'avg_Prating', 'Var_Urating', 'Var_Prating', 'UCcounts', 'PCcounts',\n",
       "       '#ofwords', 'Uavg#word', 'Uvar#word', 'Pavg#word', 'Pvar#word',\n",
       "       'day_Urating', 'day_Prating', '#ofCharacter', 'Uppercase', 'Lowercase',\n",
       "       'count_punct', 'Exclaim', 'subjectivity', 'positiveSent',\n",
       "       'negativeSent', 'le_d', 'ld', 'anger', 'anticipation', 'disgust',\n",
       "       'fear', 'joy', 'sadness', 'surprise', 'trust', 'Entropy', 'similarity',\n",
       "       'Ext', 'singleton', 'ratio_LCAPS', 'date', 'date_entropy'],\n",
       "      dtype='object')"
      ]
     },
     "execution_count": 13,
     "metadata": {},
     "output_type": "execute_result"
    }
   ],
   "source": [
    "df.columns"
   ]
  },
  {
   "cell_type": "code",
   "execution_count": 15,
   "metadata": {
    "pycharm": {
     "name": "#%%\n"
    }
   },
   "outputs": [
    {
     "data": {
      "text/plain": [
       "<bound method NDFrame.copy of         #ofwords  #ofCharacter  Uppercase  Lowercase  count_punct  Exclaim  \\\n",
       "0             56           340          5        274            6        0   \n",
       "1             45           228          7        170            7        0   \n",
       "2             20            96          1         75            1        0   \n",
       "3             12            72          2         56            3        1   \n",
       "4            118           649          5        513           14        0   \n",
       "...          ...           ...        ...        ...          ...      ...   \n",
       "157869       114           630         10        488           18        1   \n",
       "157870        83           476         15        369            9        1   \n",
       "157871        23           141          3        112            4        0   \n",
       "157872        86           500         12        384           14        1   \n",
       "157873        99           501         16        362           18        0   \n",
       "\n",
       "        subjectivity  positiveSent  negativeSent       le_d         ld  \\\n",
       "0           0.677922          0.47          0.00  57.142857  13.588235   \n",
       "1           0.631313          0.09          0.15  60.000000  14.013950   \n",
       "2           0.212500          0.30          0.10  60.000000  15.500000   \n",
       "3           0.833333          0.55          0.00  66.666667  17.506017   \n",
       "4           0.529861          0.36          0.02  55.932203  14.186907   \n",
       "...              ...           ...           ...        ...        ...   \n",
       "157869      0.734497          0.33          0.06  51.754386  13.315371   \n",
       "157870      0.462589          0.33          0.00  55.421687  14.492726   \n",
       "157871      0.760000          0.35          0.00  65.217391  15.937943   \n",
       "157872      0.785714          0.26          0.04  54.651163  13.287576   \n",
       "157873      0.416667          0.20          0.07  48.484848  15.229635   \n",
       "\n",
       "           anger  anticipation   disgust      fear       joy   sadness  \\\n",
       "0       0.000000      0.062500  0.000000  0.000000  0.093750  0.031250   \n",
       "1       0.043478      0.130435  0.043478  0.043478  0.130435  0.043478   \n",
       "2       0.000000      0.000000  0.000000  0.000000  0.083333  0.000000   \n",
       "3       0.000000      0.000000  0.000000  0.000000  0.250000  0.000000   \n",
       "4       0.000000      0.051724  0.000000  0.000000  0.086207  0.017241   \n",
       "...          ...           ...       ...       ...       ...       ...   \n",
       "157869  0.000000      0.016949  0.000000  0.000000  0.101695  0.000000   \n",
       "157870  0.000000      0.046512  0.000000  0.000000  0.093023  0.000000   \n",
       "157871  0.000000      0.133333  0.000000  0.000000  0.133333  0.000000   \n",
       "157872  0.023256      0.023256  0.000000  0.023256  0.046512  0.000000   \n",
       "157873  0.000000      0.071429  0.000000  0.023810  0.071429  0.000000   \n",
       "\n",
       "        surprise     trust  \n",
       "0       0.062500  0.093750  \n",
       "1       0.043478  0.130435  \n",
       "2       0.000000  0.083333  \n",
       "3       0.000000  0.125000  \n",
       "4       0.017241  0.086207  \n",
       "...          ...       ...  \n",
       "157869  0.016949  0.067797  \n",
       "157870  0.046512  0.116279  \n",
       "157871  0.000000  0.200000  \n",
       "157872  0.023256  0.093023  \n",
       "157873  0.023810  0.095238  \n",
       "\n",
       "[157874 rows x 19 columns]>"
      ]
     },
     "execution_count": 15,
     "metadata": {},
     "output_type": "execute_result"
    }
   ],
   "source": [
    "'Pavg#word', 'Pvar#word','avg_Prating', 'Var_Urating','PCcounts','Uavg#word'"
   ]
  },
  {
   "cell_type": "code",
   "execution_count": 2,
   "metadata": {
    "pycharm": {
     "name": "#%%\n"
    }
   },
   "outputs": [],
   "source": [
    "df = df[['label','avg_Urating', 'avg_Prating', 'Var_Urating', 'Var_Prating', 'UCcounts',\n",
    "       'PCcounts', '#ofwords', 'Uavg#word', 'Uvar#word', 'Pavg#word',\n",
    "       'Pvar#word', 'day_Urating', 'day_Prating', '#ofCharacter', 'Uppercase',\n",
    "       'Lowercase', 'count_punct', 'Exclaim', 'subjectivity', 'positiveSent',\n",
    "       'negativeSent', 'le_d', 'ld', 'anger', 'anticipation', 'disgust',\n",
    "       'fear', 'joy', 'sadness', 'surprise', 'trust', 'Entropy', 'similarity',\n",
    "       'Ext', 'singleton', 'ratio_LCAPS', 'date', 'date_entropy']].copy()\n",
    "dfH = df[df['label'] ==1]\n",
    "dfS = df[df['label'] ==0]"
   ]
  },
  {
   "cell_type": "code",
   "execution_count": 27,
   "metadata": {
    "pycharm": {
     "name": "#%%\n"
    }
   },
   "outputs": [
    {
     "data": {
      "image/png": "[encoded data removed]",
      "text/plain": [
       "<Figure size 1440x1440 with 42 Axes>"
      ]
     },
     "metadata": {
      "needs_background": "light"
     },
     "output_type": "display_data"
    }
   ],
   "source": [
    "import matplotlib.pyplot as plt\n",
    "plt.rcParams[\"figure.figsize\"] = (20,20)\n",
    "df.hist()\n",
    "plt.show()"
   ]
  },
  {
   "cell_type": "code",
   "execution_count": null,
   "metadata": {
    "pycharm": {
     "name": "#%%\n"
    }
   },
   "outputs": [],
   "source": []
  }
 ],
 "metadata": {
  "kernelspec": {
   "display_name": "Python 3 (ipykernel)",
   "language": "python",
   "name": "python3"
  },
  "language_info": {
   "codemirror_mode": {
    "name": "ipython",
    "version": 3
   },
   "file_extension": ".py",
   "mimetype": "text/x-python",
   "name": "python",
   "nbconvert_exporter": "python",
   "pygments_lexer": "ipython3",
   "version": "3.8.10"
  }
 },
 "nbformat": 4,
 "nbformat_minor": 4
}